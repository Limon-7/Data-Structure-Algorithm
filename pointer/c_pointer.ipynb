{
 "cells": [
  {
   "attachments": {},
   "cell_type": "markdown",
   "metadata": {},
   "source": [
    "### Pointer:\n",
    "A pointer variable (or pointer in short) is basically the same as the other variables, which can store a piece of data. Unlike normal variable which stores a value (such as an int, a double, a char), a pointer stores a memory address.\n",
    "\n",
    "1. Declare a variable:\n",
    "```\n",
    "type *ptr;  \n",
    "// or\n",
    "type* ptr;\n",
    "// or\n",
    "type * ptr;\n",
    "int *p1, *p2, i;    // p1 and p2 are int pointers. i is an int\n",
    "```\n",
    "\n",
    "2. Address-Of Operator (&): The address-of operator (&) operates on a variable, and returns the address of the variable. \n",
    "```\n",
    "int number = 88;     // An int variable with a value\n",
    "int * pNumber;       // Declare a pointer variable called pNumber pointing to an int (or int pointer)\n",
    "pNumber = &number;   // Assign the address of the variable number to pointer pNumber\n",
    " \n",
    "int * pAnother = &number; // init to address of the variable number\n",
    "```\n",
    "3. Indirection or Dereferencing Operator (\\*): The indirection operator (or dereferencing operator) (*) operates on a pointer, and returns the value stored in the address kept in the pointer variable.\n",
    "```\n",
    "int number = 88;\n",
    "int * pNumber = &number;  // Declare and assign the address of variable number to pointer pNumber (0x22ccec)\n",
    "cout << pNumber<< endl;   // Print the content of the pointer variable, which contain an address (0x22ccec)\n",
    "cout << *pNumber << endl; // Print the value \"pointed to\" by the pointer, which is an int (88)\n",
    "```\n",
    "\n"
   ]
  },
  {
   "attachments": {},
   "cell_type": "markdown",
   "metadata": {},
   "source": []
  }
 ],
 "metadata": {
  "language_info": {
   "name": "python"
  },
  "orig_nbformat": 4
 },
 "nbformat": 4,
 "nbformat_minor": 2
}
