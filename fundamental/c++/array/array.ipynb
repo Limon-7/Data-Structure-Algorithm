{
 "cells": [
  {
   "attachments": {},
   "cell_type": "markdown",
   "metadata": {},
   "source": [
    "## Array:\n",
    "In C++, an array is a fixed-size collection of elements of the same type. Arrays provide a way to store multiple values of the same data type in contiguous memory locations.\n",
    "\n",
    "Operation:\n",
    "- Traversal\n",
    "- Insertion\n",
    "- Deletion\n",
    "- Searching: binary search, linear search\n",
    "- Sorting: merge sort, quick sort, bubble sort"
   ]
  },
  {
   "cell_type": "code",
   "execution_count": 255,
   "metadata": {
    "vscode": {
     "languageId": "cpp"
    }
   },
   "outputs": [],
   "source": [
    "// import necessary files\n",
    "// #include<bits/stdc++.h>\n",
    "#include<iostream>\n",
    "// #include<array>\n",
    "using namespace std;"
   ]
  },
  {
   "attachments": {},
   "cell_type": "markdown",
   "metadata": {},
   "source": [
    "### 0. How to calculate array Size:\n",
    "1. `std::end(arr) - std:: begin(arr)`:\n",
    "    - `std::end(arr)` will give the address of the element immediately after the last element of the array.\n",
    "    - `std::begin(arr)` gives the memory address of the first item.\n",
    "    \n",
    "    **Note** this will work for any `std::vector, std::array`, and other container types.\n",
    "2. `sizeof(arr)/sizeof(arr[i])`:\n",
    "    - `sizeof(arr)` return the total size in bytye\n",
    "    - `sizeof(arr[i])` return the size of i<sup>th</sup> element in byte.<br>\n",
    "3. `*(&arr+1) - arr`: this expression can be used to calculate the distance between the first and last element of the array\n",
    "    - `arr`: will return the first element's address.\n",
    "    - `&arr`: will return the first element's address.\n",
    "    - `&arr+1`: will give the address of the element immediately after the last element of the array.\n",
    "4. **using STL size() method:** `arr.size()` but we must create an array with like this `array<int, 10> arr1`"
   ]
  },
  {
   "cell_type": "code",
   "execution_count": 256,
   "metadata": {
    "vscode": {
     "languageId": "cpp"
    }
   },
   "outputs": [
    {
     "name": "stdout",
     "output_type": "stream",
     "text": [
      " end(arr) - begin(arr) = 3\n",
      " sizeof(arr)/sizeof(arr[1]) = 3\n",
      " *(&arr+1) - arr = 3\n",
      " STL arr1.size:()= 3\n",
      " i = 0\t address = 0x7ffd2ba96f84\n",
      " i = 1\t address = 0x7ffd2ba96f88\n",
      " i = 2\t address = 0x7ffd2ba96f8c\n",
      " i = 3\t address = 0x7ffd2ba96f90\n",
      " arr = 0x7ffd2ba96f84\n",
      " &arr = 0x7ffd2ba96f84\n",
      " begin(arr) = 0x7ffd2ba96f84\n",
      " &arr + 1 = 0x7ffd2ba96f90\n",
      " end(arr) = 0x7ffd2ba96f90\n"
     ]
    }
   ],
   "source": [
    "void arrayLength(){\n",
    "    int arr[3];\n",
    "    cout<<\" end(arr) - begin(arr) = \"<< end(arr) - begin(arr) <<endl;\n",
    "    cout<<\" sizeof(arr)/sizeof(arr[1]) = \"<< sizeof(arr)/sizeof(arr[1]) <<endl; // using total size of memory then divide by each element memory space\n",
    "    cout<<\" *(&arr+1) - arr = \"<< *(&arr+1) - arr<<endl;\n",
    "\n",
    "    // to use STL size() method\n",
    "    array<int, 3> arr1;\n",
    "    cout << \" STL arr1.size:()= \" << arr1.size() << endl;\n",
    "\n",
    "    for(int i=0; i<4; i++){\n",
    "        cout<<\" i = \"<< i <<\"\\t address = \"<<&arr[i]<<endl;\n",
    "    }\n",
    "    cout<<\" arr = \"<<arr<<endl;\n",
    "    cout<<\" &arr = \" <<&arr<<endl;\n",
    "    cout<<\" begin(arr) = \" <<begin(arr)<<endl;\n",
    "    cout<<\" &arr + 1 = \" <<&arr+1<<endl;\n",
    "    cout<<\" end(arr) = \" <<end(arr)<<endl;\n",
    "}\n",
    "arrayLength();"
   ]
  },
  {
   "attachments": {},
   "cell_type": "markdown",
   "metadata": {},
   "source": [
    "### 1. Basic Array Operations:"
   ]
  },
  {
   "cell_type": "code",
   "execution_count": 257,
   "metadata": {
    "vscode": {
     "languageId": "cpp"
    }
   },
   "outputs": [],
   "source": [
    "const int MAX_SIZE = 100;"
   ]
  },
  {
   "cell_type": "code",
   "execution_count": 258,
   "metadata": {
    "vscode": {
     "languageId": "cpp"
    }
   },
   "outputs": [],
   "source": [
    "// Array traversal\n",
    "void ArrayTraversal(int *arr[], int &n){\n",
    "    for(int i=0; i<n; i++){\n",
    "        cout<<arr[i]<<\" \";\n",
    "    }\n",
    "    cout<<endl;\n",
    "}"
   ]
  },
  {
   "cell_type": "code",
   "execution_count": 259,
   "metadata": {
    "vscode": {
     "languageId": "cpp"
    }
   },
   "outputs": [],
   "source": [
    "void DeleteItem(int arr[], int& size, int position){\n",
    "    if (position < 0 || position >= size) {\n",
    "        cout << \"Invalid position. Cannot update element.\" << endl;\n",
    "        return;\n",
    "    }\n",
    "    for(int i = position; i< size-1; ++i){\n",
    "        arr[i] = arr[i+1];\n",
    "    }\n",
    "}"
   ]
  },
  {
   "cell_type": "code",
   "execution_count": 260,
   "metadata": {
    "vscode": {
     "languageId": "cpp"
    }
   },
   "outputs": [],
   "source": [
    "void InsertItem(int arr[], int& size, int element, int position){\n",
    "    if (size >= MAX_SIZE) {\n",
    "        cout << \"Array is full. Cannot insert element.\" << endl;\n",
    "        return;\n",
    "    }\n",
    "    if (position < 0 || position > size) {\n",
    "        cout << \"Invalid position. Cannot insert element.\" << endl;\n",
    "        return;\n",
    "    }\n",
    "\n",
    "    for(int i = size-1; i >= position; --i){\n",
    "        arr[i+1]= arr[i];\n",
    "    }\n",
    "    arr[position] = element;\n",
    "}"
   ]
  },
  {
   "cell_type": "code",
   "execution_count": 261,
   "metadata": {
    "vscode": {
     "languageId": "cpp"
    }
   },
   "outputs": [],
   "source": [
    "void UpdateItem(int *arr[], int& size, int& element, int& position) {\n",
    "    if (position < 0 || position >= size) {\n",
    "        cout << \"Invalid position. Cannot update element.\" << endl;\n",
    "        return;\n",
    "    }\n",
    "    // arr[position] = element; // update the element\n",
    "    position = element;\n",
    "}"
   ]
  },
  {
   "cell_type": "code",
   "execution_count": 263,
   "metadata": {
    "vscode": {
     "languageId": "cpp"
    }
   },
   "outputs": [
    {
     "name": "stdout",
     "output_type": "stream",
     "text": [
      "10 20 30 40 50 \n",
      "10 20 30 200 50 \n",
      "10 20 200 50 50 \n",
      "200 10 20 200 50 \n"
     ]
    }
   ],
   "source": [
    "int arr[MAX_SIZE] = { 10, 20, 30, 40, 50 };\n",
    "int size = 5;\n",
    "\n",
    "ArrayTraversal(arr, size);\n",
    "UpdateItem(arr, size, 200, 3);\n",
    "ArrayTraversal(arr, size);\n",
    "DeleteItem(arr, size, 2);\n",
    "ArrayTraversal(arr, size);\n",
    "InsertItem(arr, size, 200, 0);\n",
    "ArrayTraversal(arr, size);"
   ]
  }
 ],
 "metadata": {
  "kernelspec": {
   "display_name": "C++17",
   "language": "C++17",
   "name": "xcpp17"
  },
  "language_info": {
   "codemirror_mode": "text/x-c++src",
   "file_extension": ".cpp",
   "mimetype": "text/x-c++src",
   "name": "c++",
   "version": "17"
  },
  "orig_nbformat": 4
 },
 "nbformat": 4,
 "nbformat_minor": 2
}
