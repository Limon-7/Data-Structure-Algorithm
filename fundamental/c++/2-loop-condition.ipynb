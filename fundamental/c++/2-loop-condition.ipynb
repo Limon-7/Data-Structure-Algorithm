{
 "cells": [
  {
   "cell_type": "code",
   "execution_count": 2,
   "metadata": {
    "vscode": {
     "languageId": "cpp"
    }
   },
   "outputs": [],
   "source": [
    "#include<bits/stdc++.h>\n",
    "using namespace std;"
   ]
  },
  {
   "attachments": {},
   "cell_type": "markdown",
   "metadata": {},
   "source": [
    "## Terminating Program:\n",
    "1. exit():\n",
    "2. abort():\n",
    "3. return -1;"
   ]
  },
  {
   "cell_type": "code",
   "execution_count": 8,
   "metadata": {
    "vscode": {
     "languageId": "cpp"
    }
   },
   "outputs": [
    {
     "name": "stdout",
     "output_type": "stream",
     "text": [
      "items[0] Value=2\n",
      "items[1] Value=3\n",
      "items[2] Value=4\n",
      "items[3] Value=5\n"
     ]
    }
   ],
   "source": [
    "//  forloop\n",
    "int items[] = {2,3,4,5};\n",
    "for(int i = 0; i < 4; i++){\n",
    "    cout << \"items[\" << i <<\"] Value=\"<< items[i] <<endl;\n",
    "}"
   ]
  },
  {
   "cell_type": "code",
   "execution_count": 19,
   "metadata": {
    "vscode": {
     "languageId": "cpp"
    }
   },
   "outputs": [
    {
     "name": "stdout",
     "output_type": "stream",
     "text": [
      "items[0] Value=2\n",
      "items[1] Value=3\n",
      "items[2] Value=4\n",
      "items[3] Value=5\n"
     ]
    }
   ],
   "source": [
    "//  while loop\n",
    "int items[] = {2,3,4,5};\n",
    "int i = 0;\n",
    "while(i<4){\n",
    "    cout << \"items[\" << i <<\"] Value=\"<< items[i] <<endl;\n",
    "    ++i;\n",
    "}"
   ]
  },
  {
   "cell_type": "code",
   "execution_count": 20,
   "metadata": {
    "vscode": {
     "languageId": "cpp"
    }
   },
   "outputs": [
    {
     "name": "stdout",
     "output_type": "stream",
     "text": [
      "500500"
     ]
    }
   ],
   "source": [
    "// do .. while(condition)\n",
    "int sum = 0, number = 1;\n",
    "do {\n",
    "   sum += number;\n",
    "   ++number;\n",
    "} while (number <= 1000);\n",
    "cout<<sum;"
   ]
  },
  {
   "attachments": {},
   "cell_type": "markdown",
   "metadata": {},
   "source": [
    "#### Range-based for loop:\n",
    "- To modify members, need to use reference (&)"
   ]
  },
  {
   "cell_type": "code",
   "execution_count": 21,
   "metadata": {
    "vscode": {
     "languageId": "cpp"
    }
   },
   "outputs": [
    {
     "name": "stdout",
     "output_type": "stream",
     "text": [
      "11\n",
      "22\n",
      "33\n",
      "44\n",
      "55\n",
      "99\n",
      "99\n",
      "99\n",
      "99\n",
      "99\n"
     ]
    }
   ],
   "source": [
    "// Range-based for loop\n",
    " int numbers[] = {11, 22, 33, 44, 55};\n",
    "\n",
    "// For each member called number of array numbers - read only \n",
    "for (int number : numbers) {\n",
    "    cout << number << endl;\n",
    "}\n",
    "\n",
    "// To modify members, need to use reference (&)\n",
    "for (int &number : numbers) {\n",
    "    number = 99;\n",
    "}\n",
    "\n",
    "for (int number : numbers) {\n",
    "    cout << number << endl;\n",
    "}"
   ]
  }
 ],
 "metadata": {
  "kernelspec": {
   "display_name": "C++17",
   "language": "C++17",
   "name": "xcpp17"
  },
  "language_info": {
   "codemirror_mode": "text/x-c++src",
   "file_extension": ".cpp",
   "mimetype": "text/x-c++src",
   "name": "c++",
   "version": "17"
  },
  "orig_nbformat": 4
 },
 "nbformat": 4,
 "nbformat_minor": 2
}
