{
 "cells": [
  {
   "attachments": {},
   "cell_type": "markdown",
   "metadata": {},
   "source": [
    "## 1. ***Sequence Containers:***\n",
    "implement data structures that can be accessed in a sequential manner.\n",
    "1. vector &#9745;\n",
    "2. list\n",
    "3. deque\n",
    "4. arrays &#9745;\n",
    "5. forward_list( Introduced in C++11)"
   ]
  },
  {
   "attachments": {},
   "cell_type": "markdown",
   "metadata": {},
   "source": []
  },
  {
   "attachments": {},
   "cell_type": "markdown",
   "metadata": {},
   "source": [
    "### 1. vector:\n",
    "Vecators are dynamic arrays with the ability to resize itself automatically when an item is insearted or deletated."
   ]
  },
  {
   "cell_type": "code",
   "execution_count": 2,
   "metadata": {
    "vscode": {
     "languageId": "cpp"
    }
   },
   "outputs": [],
   "source": [
    "#include <iostream>\n",
    "#include <vector>\n",
    "\n",
    "using namespace std;\n",
    "// macros\n",
    "#define pb push_back\n",
    "#define ppb pop_back"
   ]
  },
  {
   "cell_type": "code",
   "execution_count": 12,
   "metadata": {
    "vscode": {
     "languageId": "cpp"
    }
   },
   "outputs": [
    {
     "name": "stdout",
     "output_type": "stream",
     "text": [
      "1 2 3 4 5 \n",
      "Display Vector-2: 6 7 8 9 10 \n",
      "Display Vector-3: 3 3 3 3 \n",
      "2-d vector example:::\n",
      "1 2 3 \n",
      "4 5 6 \n",
      "7 8 9 \n"
     ]
    }
   ],
   "source": [
    "void initVector(){\n",
    "    vector<int> initVect1 = {1, 2, 3, 4, 5}; // intializer list\n",
    "    for (const int &i : initVect1)\n",
    "    {\n",
    "        cout << i << \" \";\n",
    "    }\n",
    "\n",
    "    cout << \"\\nDisplay Vector-2: \";\n",
    "    vector<int> initVect2{6, 7, 8, 9, 10}; // uniform initialization\n",
    "    for (const int i : initVect2)\n",
    "    {\n",
    "        cout << i << \" \";\n",
    "    }\n",
    "\n",
    "    cout << \"\\nDisplay Vector-3: \";\n",
    "    vector<int> initVect3(4, 3); // method 3\n",
    "    for (auto i : initVect3)\n",
    "    {\n",
    "        cout << i << \" \";\n",
    "    }\n",
    "    cout<<\"\\n2-d vector example:::\"<<endl;\n",
    "    vector<vector<int>> vect2d{\n",
    "                               {1, 2, 3},\n",
    "                               {4, 5, 6},\n",
    "                               {7, 8, 9}\n",
    "                            };\n",
    "    for(auto r: vect2d){\n",
    "        for(auto c: r){\n",
    "            cout<<c<<\" \";\n",
    "        }\n",
    "        cout<<\"\\n\";\n",
    "    }\n",
    "}\n",
    "initVector();"
   ]
  },
  {
   "cell_type": "code",
   "execution_count": null,
   "metadata": {
    "vscode": {
     "languageId": "cpp"
    }
   },
   "outputs": [],
   "source": []
  }
 ],
 "metadata": {
  "kernelspec": {
   "display_name": "C++17",
   "language": "C++17",
   "name": "xcpp17"
  },
  "language_info": {
   "codemirror_mode": "text/x-c++src",
   "file_extension": ".cpp",
   "mimetype": "text/x-c++src",
   "name": "c++",
   "version": "17"
  },
  "orig_nbformat": 4
 },
 "nbformat": 4,
 "nbformat_minor": 2
}
