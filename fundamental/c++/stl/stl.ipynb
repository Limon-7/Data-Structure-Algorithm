{
 "cells": [
  {
   "attachments": {},
   "cell_type": "markdown",
   "metadata": {},
   "source": [
    "###  STL( Standard Template Library):\n",
    "The Standard Template Library (STL) is a set of C++ template classes to provide common programming data structures and functions such as lists, stacks, arrays, etc.\n",
    "\n",
    "1. ***Containers:*** The STL provides a range of containers, such as ***vector, list, map, set, and stack***, which can be used to store and manipulate data.\n",
    "2. ***Algorithms:*** The STL provides a range of algorithms, such as ***sort, find, and binary_search***, which can be used to manipulate data stored in containers.\n",
    "\n",
    "3. ***Iterators:*** Iterators are objects that provide a way to traverse the elements of a container. The STL provides a range of iterators, such as ***forward_iterator, bidirectional_iterator, and random_access_iterator***, that can be used with different types of containers.\n",
    "4. ***Function Objects:*** Function objects, also known as functors, are objects that can be used as function arguments to algorithms. They provide a way to pass a function to an algorithm, allowing you to customize its behavior.\n",
    "\n",
    "5. ***Adapters:*** Adapters are components that modify the behavior of other components in the STL. For example, the reverse_iterator adapter can be used to reverse the order of elements in a container."
   ]
  },
  {
   "attachments": {},
   "cell_type": "markdown",
   "metadata": {},
   "source": [
    "### 1. Container:\n",
    "Containers or container classes store objects and data.\n",
    "\n",
    "1. ***Sequence Containers:*** implement data structures that can be accessed in a sequential manner.\n",
    "    - vector &#9745;\n",
    "    - list\n",
    "    - deque\n",
    "    - arrays &#9745;\n",
    "    - forward_list( Introduced in C++11)\n",
    "2. ***Container Adaptors:*** provide a different interface for sequential containers.\n",
    "    - queue\n",
    "    - priority_queue\n",
    "    - stack\n",
    "3. ***Associative Containers:*** implement sorted data structures that can be quickly searched (O(log n) complexity).\n",
    "    - set &#9745;\n",
    "    - multiset &#9745;\n",
    "    - map &#9745;\n",
    "    - multimap &#9745;\n",
    "4. ***Unordered Associative Containers:*** implement unordered data structures that can be quickly searched\n",
    "    - unordered_set (Introduced in C++11) &#9745;\n",
    "    - unordered_multiset (Introduced in C++11) &#9745;\n",
    "    - unordered_map (Introduced in C++11) &#9745;\n",
    "    - unordered_multimap (Introduced in C++11) &#9745;\n"
   ]
  },
  {
   "attachments": {},
   "cell_type": "markdown",
   "metadata": {},
   "source": [
    "### Utility:\n",
    "- pair &#9745;"
   ]
  },
  {
   "attachments": {},
   "cell_type": "markdown",
   "metadata": {},
   "source": []
  }
 ],
 "metadata": {
  "language_info": {
   "name": "python"
  },
  "orig_nbformat": 4
 },
 "nbformat": 4,
 "nbformat_minor": 2
}
