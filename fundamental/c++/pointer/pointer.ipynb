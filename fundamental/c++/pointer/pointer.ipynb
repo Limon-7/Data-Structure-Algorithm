{
 "cells": [
  {
   "attachments": {},
   "cell_type": "markdown",
   "metadata": {},
   "source": [
    "### Pointer:\n",
    "A pointer variable (or pointer in short) is basically the same as the other variables, which can store a piece of data. Unlike normal variable which stores a value (such as an int, a double, a char), a pointer stores a memory address."
   ]
  },
  {
   "cell_type": "code",
   "execution_count": 6,
   "metadata": {
    "vscode": {
     "languageId": "cpp"
    }
   },
   "outputs": [],
   "source": [
    "#include<iostream>\n",
    "using namespace std;"
   ]
  },
  {
   "attachments": {},
   "cell_type": "markdown",
   "metadata": {},
   "source": [
    "1. Declare a variable:\n",
    "\n",
    "2. Address-Of Operator (&): The address-of operator (&) operates on a variable, and returns the address of the variable. \n",
    "\n",
    "3. Indirection or Dereferencing Operator (\\*): The indirection operator (or dereferencing operator) (*) operates on a pointer, and returns the value stored in the address kept in the pointer variable.\n"
   ]
  },
  {
   "cell_type": "code",
   "execution_count": 5,
   "metadata": {
    "vscode": {
     "languageId": "cpp"
    }
   },
   "outputs": [
    {
     "name": "stdout",
     "output_type": "stream",
     "text": [
      "0\n",
      "0x7f1149b04098\n",
      " number 0x7f1149b040a0\n",
      " number1 0x7f1149b040a0\n",
      " &number1 0x7f1149b040a8\n",
      " pNumber1 == &number = true \n",
      " number2 0x7f1149b040a8\n",
      " &number2 0x7f1149b040b0\n",
      " number3 0x7f1149b040b0\n",
      " number1 = 88\n",
      " number2 = 88\n",
      " number3 = 88\n"
     ]
    }
   ],
   "source": [
    "int number = 88;     // An int variable with a value\n",
    "int* pNumber1 =  &number;      // point the address of number and save it to his own memory address.\n",
    "int** pNumber2 = &pNumber1; // point the address of number1\n",
    "int*** pNumber3 = &pNumber2;\n",
    "int* str = NULL;\n",
    "cout<<str<<endl;\n",
    "cout<<&str<<endl;\n",
    "cout<<\" number \"<< &number <<endl;\n",
    "cout<<\" number1 \"<< pNumber1 <<endl;\n",
    "cout<<\" &number1 \"<< &pNumber1 <<endl;\n",
    "pNumber1 == &number? cout<<\" pNumber1 == &number = true \"<<endl: cout<<\"pNumber1 == &number = false\"<<endl;\n",
    "cout<<\" number2 \"<< pNumber2 <<endl;\n",
    "cout<<\" &number2 \"<< &pNumber2 <<endl;\n",
    "cout<<\" number3 \"<< pNumber3 <<endl;\n",
    "\n",
    "cout<<\" number1 = \"<< *pNumber1 <<endl;\n",
    "cout<<\" number2 = \"<< **pNumber2 <<endl;\n",
    "cout<<\" number3 = \"<< ***pNumber3 <<endl;\n"
   ]
  },
  {
   "cell_type": "code",
   "execution_count": 15,
   "metadata": {
    "vscode": {
     "languageId": "cpp"
    }
   },
   "outputs": [
    {
     "name": "stdout",
     "output_type": "stream",
     "text": [
      "0x7f1149b04170\n",
      "0\n"
     ]
    }
   ],
   "source": [
    "int num = 12;\n",
    "int* num1 = NULL;\n",
    "cout<<&num1<<endl;\n",
    "int** num2 = &num1;\n",
    "cout<<*num2<<endl;"
   ]
  },
  {
   "cell_type": "code",
   "execution_count": 46,
   "metadata": {
    "vscode": {
     "languageId": "cpp"
    }
   },
   "outputs": [
    {
     "name": "stdout",
     "output_type": "stream",
     "text": [
      " a = 100\t b = 14\t c = 100\t d = 14\t"
     ]
    }
   ],
   "source": [
    "void changePointerValue()\n",
    "{\n",
    "    int a = 12, b = 14;\n",
    "    int *c = &a;\n",
    "    int *d = &b;\n",
    "\n",
    "    *c = 100;  // change the value of address a\n",
    "    cout<<\" a = \"<<a<<\"\\t\";\n",
    "    cout<<\" b = \"<<b<<\"\\t\";\n",
    "    cout<<\" c = \"<<*c<<\"\\t\";\n",
    "    cout<<\" d = \"<<*d<<\"\\t\";\n",
    "    //  a = *c = 100\n",
    "    //  b = *d =14\n",
    "}\n",
    "changePointerValue();"
   ]
  },
  {
   "cell_type": "code",
   "execution_count": 50,
   "metadata": {
    "vscode": {
     "languageId": "cpp"
    }
   },
   "outputs": [
    {
     "name": "stdout",
     "output_type": "stream",
     "text": [
      "Adress:&firstvalue= 0x7ffe945e371c\t&secondvalue= 0x7ffe945e3718\tp1=0x7ffe945e371c\tp2=0x7ffe945e3718\n",
      "Value:firstvalue= 5\tsecondvalue= 15\tp1=5\tp2=15\n",
      "After:firstvalue= 0x7ffe945e371c\tsecondvalue= 0x7ffe945e3718\tp1=0x7ffe945e371c\tp2=0x7ffe945e3718\n",
      "Value:firstvalue= 10\tsecondvalue= 10\tp1=10\tp2=10\n",
      "Pointer Copied:firstvalue= 0x7ffe945e371c\tsecondvalue= 0x7ffe945e3718\tp1=0x7ffe945e3718\tp2=0x7ffe945e3718\n",
      "Value:firstvalue= 10\tsecondvalue= 20\tp1=20\tp2=20\n"
     ]
    }
   ],
   "source": [
    "void changePointerValue_2()\n",
    "{\n",
    "    int firstvalue = 5, secondvalue = 15;\n",
    "\n",
    "    int *p1 = &firstvalue;  // p1 = address of firstvalue\n",
    "    int *p2 = &secondvalue; // p2 = address of secondvalue\n",
    "    cout<<\"Adress:\"<<\"&firstvalue= \"<<&firstvalue<<\"\\t&secondvalue= \"<<&secondvalue<<\"\\tp1=\"<<p1<<\"\\tp2=\"<<p2<<endl;\n",
    "    cout<<\"Value:\"<<\"firstvalue= \"<<firstvalue<<\"\\tsecondvalue= \"<<secondvalue<<\"\\tp1=\"<<*p1<<\"\\tp2=\"<<*p2<<endl;\n",
    "\n",
    "    *p1 = 10;               // value pointed to by p1 = 10\n",
    "    *p2 = *p1;              // value pointed to by p2 = value pointed to by p1\n",
    "    cout<<\"After:\"<<\"firstvalue= \"<<&firstvalue<<\"\\tsecondvalue= \"<<&secondvalue<<\"\\tp1=\"<<p1<<\"\\tp2=\"<<p2<<endl;\n",
    "    cout<<\"Value:\"<<\"firstvalue= \"<<firstvalue<<\"\\tsecondvalue= \"<<secondvalue<<\"\\tp1=\"<<*p1<<\"\\tp2=\"<<*p2<<endl;\n",
    "\n",
    "    p1 = p2; // p1 = p2 (value of pointer is copied)\n",
    "    cout<<\"Pointer Copied:\"<<\"firstvalue= \"<<&firstvalue<<\"\\tsecondvalue= \"<<&secondvalue<<\"\\tp1=\"<<p1<<\"\\tp2=\"<<p2<<endl;\n",
    "\n",
    "    *p1 = 20; // value pointed to by p1 = 20\n",
    "    cout<<\"Value:\"<<\"firstvalue= \"<<firstvalue<<\"\\tsecondvalue= \"<<secondvalue<<\"\\tp1=\"<<*p1<<\"\\tp2=\"<<*p2<<endl;\n",
    "}\n",
    "changePointerValue_2();"
   ]
  },
  {
   "cell_type": "code",
   "execution_count": null,
   "metadata": {
    "vscode": {
     "languageId": "cpp"
    }
   },
   "outputs": [],
   "source": []
  }
 ],
 "metadata": {
  "kernelspec": {
   "display_name": "C++17",
   "language": "C++17",
   "name": "xcpp17"
  },
  "language_info": {
   "codemirror_mode": "text/x-c++src",
   "file_extension": ".cpp",
   "mimetype": "text/x-c++src",
   "name": "c++",
   "version": "17"
  },
  "orig_nbformat": 4
 },
 "nbformat": 4,
 "nbformat_minor": 2
}
