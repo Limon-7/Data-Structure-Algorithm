{
 "cells": [
  {
   "attachments": {},
   "cell_type": "markdown",
   "metadata": {},
   "source": [
    "##### struct:\n",
    "It is a collection of variables can have different types of variables under a single name.\n"
   ]
  },
  {
   "cell_type": "code",
   "execution_count": 1,
   "metadata": {
    "vscode": {
     "languageId": "cpp"
    }
   },
   "outputs": [],
   "source": [
    "#include<iostream>\n",
    "using namespace std;"
   ]
  },
  {
   "cell_type": "code",
   "execution_count": 2,
   "metadata": {
    "vscode": {
     "languageId": "cpp"
    }
   },
   "outputs": [
    {
     "name": "stdout",
     "output_type": "stream",
     "text": [
      "stract is on air"
     ]
    }
   ],
   "source": [
    "cout<<\"stract is on air\";"
   ]
  },
  {
   "attachments": {},
   "cell_type": "markdown",
   "metadata": {},
   "source": [
    "1. Declare structure"
   ]
  },
  {
   "cell_type": "code",
   "execution_count": 3,
   "metadata": {
    "vscode": {
     "languageId": "cpp"
    }
   },
   "outputs": [],
   "source": [
    "struct Student{\n",
    "    int id;\n",
    "    string studentName;\n",
    "};\n",
    "\n",
    "struct Department{\n",
    "    char name[50];\n",
    "    string code;\n",
    "    float salary;\n",
    "} dept; //creating a person1 variable;\n",
    "\n",
    "typedef struct Grade{\n",
    "    int gradeId;\n",
    "    string grade;\n",
    "    struct Student stu;\n",
    "} grad;"
   ]
  },
  {
   "cell_type": "code",
   "execution_count": 4,
   "metadata": {
    "vscode": {
     "languageId": "cpp"
    }
   },
   "outputs": [
    {
     "name": "stdout",
     "output_type": "stream",
     "text": [
      "1\n",
      "Dept-1 information ->Software desiging code: cs-250\n",
      "Dept-2 information ->CSE code: cs-231\n",
      "nested struct\n",
      "101\n",
      "Limon\n"
     ]
    }
   ],
   "source": [
    "void driverCode(){\n",
    "    // creating struct variable\n",
    "    struct Student s1,s2; \n",
    "    s1.id = 1;\n",
    "    s1.studentName = \"limon\";\n",
    "    s2.id = 2;\n",
    "    cout<<s1.id<<endl;\n",
    "\n",
    "    strcpy(dept.name, \"Software desiging\");\n",
    "    dept.salary = 10000.00;\n",
    "    dept.code = \"cs-250\";\n",
    "    cout<<\"Dept-1 information ->\"<<  dept.name<<\" code: \"<< dept.code<<endl;\n",
    "    \n",
    "    struct Department dept1;\n",
    "    strcpy(dept1.name, \"CSE\");\n",
    "    dept1.code = \"cs-231\";\n",
    "    dept1.salary = 20000.00;\n",
    "\n",
    "    cout<<\"Dept-2 information ->\"<<  dept1.name<<\" code: \"<< dept1.code<<endl;\n",
    "\n",
    "    cout<<\"nested struct\"<<endl;\n",
    "    grad g1,g2;\n",
    "    g1.gradeId = 101;\n",
    "    g1.stu.studentName = \"Limon\";\n",
    "    g2.gradeId = 202;\n",
    "    cout<< g1.gradeId<<endl;\n",
    "    cout<< g1.stu.studentName<<endl;\n",
    "\n",
    "}\n",
    "driverCode();"
   ]
  },
  {
   "attachments": {},
   "cell_type": "markdown",
   "metadata": {},
   "source": [
    "2. struct with pointer:"
   ]
  },
  {
   "cell_type": "code",
   "execution_count": 5,
   "metadata": {
    "vscode": {
     "languageId": "cpp"
    }
   },
   "outputs": [],
   "source": [
    "// declare struct\n",
    "struct Distance{\n",
    "    int latitude;\n",
    "    int longitude;\n",
    "};"
   ]
  },
  {
   "cell_type": "code",
   "execution_count": 6,
   "metadata": {
    "vscode": {
     "languageId": "cpp"
    }
   },
   "outputs": [
    {
     "name": "stdout",
     "output_type": "stream",
     "text": [
      "202  \n",
      "303  \n"
     ]
    }
   ],
   "source": [
    "void driverCode(){\n",
    "    struct Distance *ptr, d;\n",
    "    ptr = &d; // ptr point the address of d\n",
    "    (*ptr).latitude = 202;\n",
    "    d.longitude = 303;\n",
    "    cout<<(*ptr).latitude<<\"  \"<<endl;\n",
    "    cout<<ptr->longitude<<\"  \"<<endl; // 303 -> \n",
    "}\n",
    "driverCode();"
   ]
  },
  {
   "cell_type": "code",
   "execution_count": 14,
   "metadata": {
    "vscode": {
     "languageId": "cpp"
    }
   },
   "outputs": [],
   "source": [
    "// create something where some of them wat share their personal details with their friend.\n",
    "// declare a struct\n",
    "typedef struct Person {\n",
    "    string name;\n",
    "    int age;\n",
    "    Person *friendPtr;\n",
    "} p;"
   ]
  },
  {
   "cell_type": "code",
   "execution_count": 52,
   "metadata": {
    "vscode": {
     "languageId": "cpp"
    }
   },
   "outputs": [],
   "source": [
    "void driverCode1(){\n",
    "    p p1, p2;\n",
    "    p1.name = \"Limon\";\n",
    "    p2.age = 25;\n",
    "    \n",
    "    p2.name = \"Likhon\";\n",
    "    p2.age = 23;\n",
    "    \n",
    "    std :: cout<<p2.name<<\" and \"<< p2.friendPtr->name<< \"are good friends\"<<endl;\n",
    "}\n",
    "\n",
    "driverCode1();"
   ]
  },
  {
   "cell_type": "code",
   "execution_count": null,
   "metadata": {
    "vscode": {
     "languageId": "cpp"
    }
   },
   "outputs": [],
   "source": []
  }
 ],
 "metadata": {
  "kernelspec": {
   "display_name": "C++17",
   "language": "C++17",
   "name": "xcpp17"
  },
  "language_info": {
   "codemirror_mode": "text/x-c++src",
   "file_extension": ".cpp",
   "mimetype": "text/x-c++src",
   "name": "c++",
   "version": "17"
  },
  "orig_nbformat": 4
 },
 "nbformat": 4,
 "nbformat_minor": 2
}
