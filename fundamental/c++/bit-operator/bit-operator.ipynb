{
 "cells": [
  {
   "attachments": {},
   "cell_type": "markdown",
   "metadata": {},
   "source": [
    "### Bit-wise Operator:\n",
    "X| Y|X&Y|X or Y|X^Y|~y|\n",
    "---:|:---|:----|:---|:---|:---\n",
    "0|0|0|0|0|1|\n",
    "0|1|0|1|1|0|\n",
    "1|1|1|1|0|0|\n",
    "\n",
    "1. left shift `<<`: shift the bit to right.\n",
    "2. right shift `>>`: shif the bit to left."
   ]
  },
  {
   "cell_type": "code",
   "execution_count": 1,
   "metadata": {},
   "outputs": [
    {
     "name": "stdout",
     "output_type": "stream",
     "text": [
      "a&b =  8\n",
      "a|b =  14\n",
      "a^b =  6\n",
      "~a =  -13\n",
      "~b =  -11\n",
      "b<<1 40\n",
      "b<<1 2\n"
     ]
    }
   ],
   "source": [
    "a = 12 # 1100\n",
    "b = 10 # 1010\n",
    "\n",
    "print(\"a&b = \", a&b) # 1000 = 8\n",
    "print(\"a|b = \", a|b) # 1110 = 14\n",
    "print(\"a^b = \", a^b) # 0110 = 6\n",
    "print(\"~a = \", ~a) # 0011 = 3 -> 1100+1 -> -13\n",
    "print(\"~b = \", ~b) # 0101 then add 2's complement add 1 so = 1010 +1 =1011 =-11\n",
    "print(\"b<<1\", b<<2) # 101000 =20\n",
    "print(\"b<<1\", b>>2) # 1010 -> 0010 -> 2"
   ]
  },
  {
   "cell_type": "code",
   "execution_count": 11,
   "metadata": {},
   "outputs": [
    {
     "name": "stdout",
     "output_type": "stream",
     "text": [
      "90\n"
     ]
    }
   ],
   "source": [
    "print(84^14)"
   ]
  },
  {
   "attachments": {},
   "cell_type": "markdown",
   "metadata": {},
   "source": [
    "### XOR(`^`): \n",
    "$a;b;c;d;$<br>\n",
    "a^b^c^d^a^b^c= d\n"
   ]
  },
  {
   "cell_type": "code",
   "execution_count": null,
   "metadata": {},
   "outputs": [],
   "source": []
  }
 ],
 "metadata": {
  "kernelspec": {
   "display_name": "Python 3",
   "language": "python",
   "name": "python3"
  },
  "language_info": {
   "codemirror_mode": {
    "name": "ipython",
    "version": 3
   },
   "file_extension": ".py",
   "mimetype": "text/x-python",
   "name": "python",
   "nbconvert_exporter": "python",
   "pygments_lexer": "ipython3",
   "version": "3.11.3"
  },
  "orig_nbformat": 4
 },
 "nbformat": 4,
 "nbformat_minor": 2
}
