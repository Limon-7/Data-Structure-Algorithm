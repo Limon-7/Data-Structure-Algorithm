{
 "cells": [
  {
   "cell_type": "code",
   "execution_count": 1,
   "metadata": {
    "vscode": {
     "languageId": "cpp"
    }
   },
   "outputs": [],
   "source": [
    "#include<bits/stdc++.h>\n",
    "using namespace std;"
   ]
  },
  {
   "attachments": {},
   "cell_type": "markdown",
   "metadata": {},
   "source": [
    "1. prints a 8-by-8 checker box pattern\n",
    "\n",
    "                # # # # # # # # \n",
    "                # # # # # # # # \n",
    "                # # # # # # # # \n",
    "                # # # # # # # # \n",
    "                # # # # # # # # \n",
    "                # # # # # # # # \n",
    "                # # # # # # # # \n",
    "                # # # # # # # #"
   ]
  },
  {
   "cell_type": "code",
   "execution_count": 4,
   "metadata": {
    "vscode": {
     "languageId": "cpp"
    }
   },
   "outputs": [
    {
     "name": "stdout",
     "output_type": "stream",
     "text": [
      "# # # # # # # # \n",
      "# # # # # # # # \n",
      "# # # # # # # # \n",
      "# # # # # # # # \n",
      "# # # # # # # # \n",
      "# # # # # # # # \n",
      "# # # # # # # # \n",
      "# # # # # # # # \n"
     ]
    }
   ],
   "source": [
    "void patternCheckBox(){\n",
    "    for(int i=0; i<8; i++){\n",
    "        for(int j=0; j<8; j++){\n",
    "            cout<<\"# \";\n",
    "        }\n",
    "        cout<<endl;\n",
    "    }\n",
    "}\n",
    "patternCheckBox();"
   ]
  },
  {
   "attachments": {},
   "cell_type": "markdown",
   "metadata": {},
   "source": [
    "2. print this patter:\n",
    "```\n",
    "# # # # # # # #\n",
    " # # # # # # # #\n",
    "# # # # # # # #\n",
    " # # # # # # # #\n",
    "# # # # # # # #\n",
    " # # # # # # # #\n",
    "# # # # # # # #\n",
    " # # # # # # # #\n",
    "```"
   ]
  },
  {
   "cell_type": "code",
   "execution_count": 13,
   "metadata": {
    "vscode": {
     "languageId": "cpp"
    }
   },
   "outputs": [
    {
     "name": "stdout",
     "output_type": "stream",
     "text": [
      "# # # # # # # # \n",
      " # # # # # # # # \n",
      "# # # # # # # # \n",
      " # # # # # # # # \n",
      "# # # # # # # # \n",
      " # # # # # # # # \n",
      "# # # # # # # # \n"
     ]
    }
   ],
   "source": [
    "void pattern(){\n",
    "    for(int i=1; i<8; i++){\n",
    "        if(i%2==0){\n",
    "            cout<<\" \";\n",
    "        }\n",
    "        for(int j=0; j<8; j++){\n",
    "            cout<<\"# \";\n",
    "        }\n",
    "        cout<<endl;\n",
    "    }\n",
    "}\n",
    "pattern();"
   ]
  },
  {
   "cell_type": "code",
   "execution_count": null,
   "metadata": {
    "vscode": {
     "languageId": "cpp"
    }
   },
   "outputs": [],
   "source": []
  }
 ],
 "metadata": {
  "kernelspec": {
   "display_name": "C++17",
   "language": "C++17",
   "name": "xcpp17"
  },
  "language_info": {
   "codemirror_mode": "text/x-c++src",
   "file_extension": ".cpp",
   "mimetype": "text/x-c++src",
   "name": "C++17",
   "version": "17"
  },
  "orig_nbformat": 4
 },
 "nbformat": 4,
 "nbformat_minor": 2
}
