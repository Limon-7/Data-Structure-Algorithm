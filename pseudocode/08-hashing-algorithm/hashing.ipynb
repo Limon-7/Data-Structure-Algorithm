{
 "cells": [
  {
   "attachments": {},
   "cell_type": "markdown",
   "metadata": {},
   "source": [
    "### Hashing algorithm:\n",
    "Hashing is a technique or process of mapping keys, and values into the hash table by using a hash function. It is nothing but the combination of the steps, pre-storing, and fetching.\n",
    "\n",
    "Algorithm:\n",
    "1. ***pre storing:*** In this step, we will create an array(named hash array) of size 13(so that we can get the index 12) initialized with 0. To do so, we will iterate over the given array, and for each element arr[i], we will do `hash[arr[i]] += 1.`\n",
    "2. ***fetching:*** we will select each query i.e. the number and for the query, we will just fetch the value of `hash[number]` and return it instead of running a ‘for loop’ every time."
   ]
  },
  {
   "attachments": {},
   "cell_type": "markdown",
   "metadata": {},
   "source": [
    "##### Point to remember:\n",
    "we may be a very large array size like $10^9$. Theroraticaly we can declare a hashing array size = $10^9 +1$. We will get an `segmentation error`.\n",
    "because,\n",
    "Array Declaration| Maximum Size(int)|Maximum Size(bool)|\n",
    "---:|:----|:---|\n",
    "Inside main()|$10^6$|$10^7$|\n",
    "Global | $10^7$|$10^8$|"
   ]
  },
  {
   "attachments": {},
   "cell_type": "markdown",
   "metadata": {},
   "source": [
    "***So with this method we can solved problem when array size is fixed***"
   ]
  },
  {
   "attachments": {},
   "cell_type": "markdown",
   "metadata": {},
   "source": [
    "To solve above problem we will use C++ STL `map<int, int>` or `unordered_map<type, type>`\n",
    "\n",
    "[MoreInfo](https://takeuforward.org/hashing/hashing-maps-time-complexity-collisions-division-rule-of-hashing-strivers-a2z-dsa-course/#)"
   ]
  },
  {
   "cell_type": "code",
   "execution_count": null,
   "metadata": {},
   "outputs": [],
   "source": []
  }
 ],
 "metadata": {
  "language_info": {
   "name": "python"
  },
  "orig_nbformat": 4
 },
 "nbformat": 4,
 "nbformat_minor": 2
}
