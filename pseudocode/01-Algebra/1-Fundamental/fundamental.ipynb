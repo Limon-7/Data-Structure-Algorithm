{
 "cells": [
  {
   "attachments": {},
   "cell_type": "markdown",
   "metadata": {},
   "source": [
    "## Fundamentals:\n",
    "1. Binary Exponentiation\n",
    "2. Modular Arithmetic\n",
    "3. Euclidean algorithm for computing the greatest common divisor\n",
    "4. Extended Euclidean Algorithm\n",
    "5. Linear Diophantine Equations\n",
    "6. Fibonacci Numbers"
   ]
  },
  {
   "attachments": {},
   "cell_type": "markdown",
   "metadata": {},
   "source": [
    "#### 1. Binary Exponentiation:\n",
    "if base a, and exponetial e;\n",
    "O(log(expo))<br>\n",
    "$3^{13} = 3^{1101_2} = 3^8 \\cdot 3^4 \\cdot 3^1$ <br>\n",
    "$\\begin{align}\n",
    "3^1 &= 3 \\\\\n",
    "3^2 &= \\left(3^1\\right)^2 = 3^2 = 9 \\\\\n",
    "3^4 &= \\left(3^2\\right)^2 = 9^2 = 81 \\\\\n",
    "3^8 &= \\left(3^4\\right)^2 = 81^2 = 6561\n",
    "\\end{align}$\n",
    "\n",
    "$3^{13} = 6561 \\cdot 81 \\cdot 3 = 1594323$\n",
    "\n",
    "How this work?\n",
    "\n",
    "1. result will multiple only bases when ***sign bit is active***. $result = result\\cdot base$\n",
    "2. base = base*base, since an element in the sequence is just the square of the previous element.\n",
    "3. to make an right shift or divide by two to get the next bit."
   ]
  },
  {
   "cell_type": "code",
   "execution_count": 4,
   "metadata": {},
   "outputs": [
    {
     "name": "stdout",
     "output_type": "stream",
     "text": [
      "1594323\n"
     ]
    }
   ],
   "source": [
    "def binary_exponentiation(base, exponent):\n",
    "    # 13 = 1101\n",
    "    result = 1\n",
    "    while exponent > 0:\n",
    "        if exponent % 2 == 1:\n",
    "            result *= base\n",
    "        base *= base\n",
    "        exponent //= 2\n",
    "    return result\n",
    "print(binary_exponentiation(3,13))"
   ]
  },
  {
   "cell_type": "code",
   "execution_count": 5,
   "metadata": {},
   "outputs": [
    {
     "name": "stdout",
     "output_type": "stream",
     "text": [
      "1594323\n"
     ]
    }
   ],
   "source": [
    "def binary_exponentiation(base, exponent):\n",
    "    # 13 = 1101\n",
    "    result = 1\n",
    "    while exponent > 0:\n",
    "        if exponent&1:\n",
    "            result *= base\n",
    "        base *= base\n",
    "        exponent>>=1\n",
    "    return result\n",
    "print(binary_exponentiation(3,13))"
   ]
  },
  {
   "attachments": {},
   "cell_type": "markdown",
   "metadata": {},
   "source": [
    "### 2. Modular Arithmetic:\n",
    "Negative reminders are not allowed.\n",
    "\n",
    "$$\\frac{A}{C} = Q \\; remainder B$$\n",
    "here,\n",
    "\n",
    "1. A is the dividend\n",
    "2. C is the divisor\n",
    "3. Q is the quotient\n",
    "4. B is the remainder\n",
    "\n",
    "But in the modulus arithemetic:\n",
    "$A \\cong B (mod \\; C)$<br>\n",
    "for Example: **$26 ≡ 11 ( mod \\;5 )$** <br>\n",
    "$26 \\; mod \\;5 = 1,$ so it is in the equivalence class for 1. <br>\n",
    "$ 11 \\; mod \\; 5 = 1$ so it is in the equivalence class for 1.\n",
    "\n",
    "So here $A = C \\cdot K \\pm B$ \n",
    "\n",
    "***Key-Points:*** $$A \\cong B (mod \\; C)$$\n",
    "1. $A (mod \\; C) == B(mod \\; C)$\n",
    "2. ${C}| {A−B} $ will be a factor.\n",
    "3. $A = C \\cdot K + B$\n",
    "\n",
    "#### 2.1 Modular Operation:\n",
    "1. Addition: $(A + B) \\; mod\\; C = (A \\;mod\\; C + B \\;mod \\;C) mod \\;C$<br>\n",
    "2. Subtraction: $(A - B) \\; mod\\; C = (A \\;mod\\; C - B \\;mod \\;C) mod \\;C$<br>\n",
    "3. Multiplication: $(A * B) \\; mod\\; C = (A \\;mod\\; C * B \\;mod \\;C) mod \\;C$<br>"
   ]
  },
  {
   "cell_type": "code",
   "execution_count": 13,
   "metadata": {},
   "outputs": [
    {
     "name": "stdout",
     "output_type": "stream",
     "text": [
      "Addition: LHS = 1 and RHS= 1\n",
      "Subtraction: LHS = 2 and RHS= 2\n",
      "Multiplication: LHS = 3 and RHS= 3\n"
     ]
    }
   ],
   "source": [
    "a,b,c= 14,17,5\n",
    "print(f\"Addition: LHS = {((a+b)%c)} and RHS= {(a%c + b%c)%c}\")\n",
    "print(f\"Subtraction: LHS = {((a-b)%c)} and RHS= {(a%c - b%c)%c}\")\n",
    "print(f\"Multiplication: LHS = {((a*b)%c)} and RHS= {(a%c * b%c)%c}\")"
   ]
  },
  {
   "attachments": {},
   "cell_type": "markdown",
   "metadata": {},
   "source": [
    "#### 2.2 Modeular Exponentiation:\n",
    "Often we want to calculate ***A^B mod C*** for large values of B.\n",
    "$$A^B \\;mod\\; C = ( (A \\;mod \\;C)^B ) \\; mod \\; C$$\n"
   ]
  },
  {
   "cell_type": "code",
   "execution_count": null,
   "metadata": {},
   "outputs": [],
   "source": []
  },
  {
   "attachments": {},
   "cell_type": "markdown",
   "metadata": {},
   "source": [
    "#### 2.3. Modular Inverse:\n",
    "Only the numbers coprime to **C** (numbers that share no prime factors with C) have a modular inverse (mod C).\n",
    "\n",
    "$(A * A^{-1}) ≡ 1 (mod \\; C)$ or equivalently $(A * A^{-1}) \\; mod \\; C = 1$\n",
    "\n",
    "or simply\n",
    "$(A * B) ≡ 1 (mod \\; C)$ will be a Modular Inverse if and only if A and C are co-prime.\n"
   ]
  },
  {
   "attachments": {},
   "cell_type": "markdown",
   "metadata": {},
   "source": [
    "### 3. Euclidean algorithm:\n",
    "The Euclidean Algorithm is a technique for quickly finding the GCD of two integers.\n",
    "1. If A = 0 then GCD(A,B)=B, since the GCD(0,B)=B, and we can stop.  \n",
    "2. If B = 0 then GCD(A,B)=A, since the GCD(A,0)=A, and we can stop.  \n",
    "3. Write A in quotient remainder form (A = B⋅Q + R)\n",
    "4. Find GCD(B,R) using the Euclidean Algorithm since GCD(A,B) = GCD(B,R)"
   ]
  },
  {
   "cell_type": "code",
   "execution_count": 16,
   "metadata": {},
   "outputs": [
    {
     "name": "stdout",
     "output_type": "stream",
     "text": [
      "10\n",
      "lcm(51,10)=510.0\n"
     ]
    }
   ],
   "source": [
    "# using recursion\n",
    "def gcd(a, b):\n",
    "    if b==0: return a\n",
    "    if a==0: return b\n",
    "    return gcd(b, a%b)\n",
    "\n",
    "def lcm(a, b):\n",
    "    return a/gcd(a,b) * b\n",
    "print(gcd(50,10))\n",
    "print(f\"lcm(51,10)={lcm(51,10)}\")"
   ]
  },
  {
   "cell_type": "code",
   "execution_count": 17,
   "metadata": {},
   "outputs": [
    {
     "name": "stdout",
     "output_type": "stream",
     "text": [
      "10\n",
      "lcm(51,10)=510.0\n"
     ]
    }
   ],
   "source": [
    "#iterative way\n",
    "def gcd_iterative(a, b):\n",
    "    if b==0: return a\n",
    "    while b!=0:\n",
    "        a,b=b, a%b\n",
    "    return a\n",
    "\n",
    "def lcm(a, b):\n",
    "    return a/gcd_iterative(a,b) * b\n",
    "print(gcd(50,10))\n",
    "print(f\"lcm(51,10)={lcm(51,10)}\")"
   ]
  },
  {
   "attachments": {},
   "cell_type": "markdown",
   "metadata": {},
   "source": [
    "## 4. Euclidean algorithm Extended:\n",
    "The Extended Euclidean Algorithm is an extension of the Euclidean Algorithm that not only computes the greatest common divisor (GCD) of two numbers but also finds the coefficients that satisfy Bézout's identity. Bézout's identity states that for any two integers a and b, there exist integers x and y such that $$ax + by = gcd(a, b)$$"
   ]
  },
  {
   "attachments": {},
   "cell_type": "markdown",
   "metadata": {},
   "source": []
  },
  {
   "cell_type": "code",
   "execution_count": 19,
   "metadata": {},
   "outputs": [
    {
     "name": "stdout",
     "output_type": "stream",
     "text": [
      "GCD of 6\n",
      "Coefficients x and y: -1 3\n"
     ]
    }
   ],
   "source": [
    "def gcd( a, b):\n",
    "    x, y, u, v = 0, 1, 1, 0\n",
    "\n",
    "    while a != 0:\n",
    "        q, r = divmod(b, a)\n",
    "        m, n = x - u * q, y - v * q\n",
    "        b, a, x, y, u, v = a, r, u, v, m, n\n",
    "\n",
    "    gcd = b\n",
    "    return gcd, x, y\n",
    "gcd, x,y = gcd(48,18)\n",
    "print(\"GCD of\", gcd)\n",
    "print(\"Coefficients x and y:\", x, y)"
   ]
  },
  {
   "cell_type": "code",
   "execution_count": null,
   "metadata": {},
   "outputs": [],
   "source": []
  }
 ],
 "metadata": {
  "kernelspec": {
   "display_name": "Python 3",
   "language": "python",
   "name": "python3"
  },
  "language_info": {
   "codemirror_mode": {
    "name": "ipython",
    "version": 3
   },
   "file_extension": ".py",
   "mimetype": "text/x-python",
   "name": "python",
   "nbconvert_exporter": "python",
   "pygments_lexer": "ipython3",
   "version": "3.11.3"
  },
  "orig_nbformat": 4
 },
 "nbformat": 4,
 "nbformat_minor": 2
}
