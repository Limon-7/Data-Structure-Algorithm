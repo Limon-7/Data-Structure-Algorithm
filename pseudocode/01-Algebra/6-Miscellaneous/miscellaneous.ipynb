{
 "cells": [
  {
   "attachments": {},
   "cell_type": "markdown",
   "metadata": {},
   "source": [
    "### Miscellaneous\n",
    "1. Bit manipulation\n",
    "2. Enumerating submasks of a bitmask\n",
    "3. Arbitrary-Precision Arithmetic\n",
    "4. Fast Fourier transform\n",
    "5. Operations on polynomials and series\n",
    "6. Continued fractions\n",
    "7. Factoring Exponentiation"
   ]
  },
  {
   "cell_type": "code",
   "execution_count": null,
   "metadata": {},
   "outputs": [],
   "source": []
  }
 ],
 "metadata": {
  "language_info": {
   "name": "python"
  },
  "orig_nbformat": 4
 },
 "nbformat": 4,
 "nbformat_minor": 2
}
