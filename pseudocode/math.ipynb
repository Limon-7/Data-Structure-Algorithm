{
 "cells": [
  {
   "attachments": {},
   "cell_type": "markdown",
   "metadata": {},
   "source": [
    "## basic math:\n"
   ]
  },
  {
   "attachments": {},
   "cell_type": "markdown",
   "metadata": {},
   "source": [
    "1. Count digit"
   ]
  },
  {
   "cell_type": "code",
   "execution_count": 8,
   "metadata": {},
   "outputs": [
    {
     "data": {
      "text/plain": [
       "3"
      ]
     },
     "execution_count": 8,
     "metadata": {},
     "output_type": "execute_result"
    }
   ],
   "source": [
    "## Count digit:\n",
    "## 1234\n",
    "def count_digit(n):\n",
    "    count = 0\n",
    "    while(n!=0):\n",
    "        n//=10\n",
    "        count+=1\n",
    "    return count\n",
    "count_digit(100)"
   ]
  },
  {
   "cell_type": "code",
   "execution_count": 15,
   "metadata": {},
   "outputs": [
    {
     "data": {
      "text/plain": [
       "(3, 3)"
      ]
     },
     "execution_count": 15,
     "metadata": {},
     "output_type": "execute_result"
    }
   ],
   "source": [
    "import math\n",
    "digit = len(str(100))\n",
    "l_digit = math.floor(math.log10(100)+1)\n",
    "digit, l_digit"
   ]
  },
  {
   "attachments": {},
   "cell_type": "markdown",
   "metadata": {},
   "source": [
    "2. Reverse a Number:"
   ]
  },
  {
   "cell_type": "code",
   "execution_count": 17,
   "metadata": {},
   "outputs": [
    {
     "name": "stdout",
     "output_type": "stream",
     "text": [
      "Not Palindrome Number\n"
     ]
    }
   ],
   "source": [
    "def reverse(X):\n",
    "    Y = 0\n",
    "    while X > 0:\n",
    "        # Extract the last digit\n",
    "        digit = X % 10\n",
    "        # Appending last digit\n",
    "        Y = Y * 10 + digit\n",
    "        # Shrinking X by discarding the last digit\n",
    "        X = X // 10\n",
    "    return Y\n",
    "\n",
    "\n",
    "\n",
    "\n",
    "if __name__ == \"__main__\":\n",
    "    X = -121\n",
    "    dummy = X\n",
    "    Y = reverse(X)\n",
    "    if dummy == Y:\n",
    "        print(\"Palindrome Number\")\n",
    "    else:\n",
    "        print(\"Not Palindrome Number\")"
   ]
  },
  {
   "cell_type": "code",
   "execution_count": null,
   "metadata": {},
   "outputs": [],
   "source": []
  }
 ],
 "metadata": {
  "kernelspec": {
   "display_name": "Python 3",
   "language": "python",
   "name": "python3"
  },
  "language_info": {
   "codemirror_mode": {
    "name": "ipython",
    "version": 3
   },
   "file_extension": ".py",
   "mimetype": "text/x-python",
   "name": "python",
   "nbconvert_exporter": "python",
   "pygments_lexer": "ipython3",
   "version": "3.9.6"
  },
  "orig_nbformat": 4
 },
 "nbformat": 4,
 "nbformat_minor": 2
}
