{
 "cells": [
  {
   "attachments": {},
   "cell_type": "markdown",
   "metadata": {},
   "source": [
    "## Magic Methods: C++ and Python\n",
    "Method Name|usages|languge|timpecomplexity|spacecomplexity|\n",
    ":---|---:|---:|---:|---:|\n",
    "min(a, b)|minimum|c++/python|\n",
    "min(iterator)|minimum|c++/python|\n",
    "max(a, b)|minimum|c++/python|\n",
    "max(iterator)|minimum|c++/python|\n",
    "sort(f_i_pointer, l_i_pointer)|sort|c++| `O(Nlog(N))`\n",
    "arr.sort()|sort|python|"
   ]
  },
  {
   "cell_type": "code",
   "execution_count": null,
   "metadata": {},
   "outputs": [],
   "source": []
  }
 ],
 "metadata": {
  "language_info": {
   "name": "python"
  },
  "orig_nbformat": 4
 },
 "nbformat": 4,
 "nbformat_minor": 2
}
