{
 "cells": [
  {
   "cell_type": "code",
   "execution_count": 3,
   "metadata": {
    "vscode": {
     "languageId": "cpp"
    }
   },
   "outputs": [],
   "source": [
    "#include<iostream>\n",
    "#include<bits/stdc++.h>\n",
    "#include <cmath>\n",
    "using namespace std;"
   ]
  },
  {
   "cell_type": "code",
   "execution_count": 8,
   "metadata": {
    "vscode": {
     "languageId": "cpp"
    }
   },
   "outputs": [
    {
     "name": "stdout",
     "output_type": "stream",
     "text": [
      "Un-initialized: will give unexpected result: 32766"
     ]
    }
   ],
   "source": [
    "void uninitializedVariable(){\n",
    "    int a;\n",
    "    cout<<\"Un-initialized: will give unexpected result: \"<<a;\n",
    "}\n",
    "uninitializedVariable();"
   ]
  },
  {
   "attachments": {},
   "cell_type": "markdown",
   "metadata": {},
   "source": [
    "1. Constant: must be initialized"
   ]
  },
  {
   "cell_type": "code",
   "execution_count": 11,
   "metadata": {
    "vscode": {
     "languageId": "cpp"
    }
   },
   "outputs": [
    {
     "name": "stdout",
     "output_type": "stream",
     "text": [
      "3.14159"
     ]
    }
   ],
   "source": [
    "const double PI = 3.1415926;  // Need to initialize\n",
    "cout<<PI;"
   ]
  },
  {
   "attachments": {},
   "cell_type": "markdown",
   "metadata": {},
   "source": [
    "### 1. DataType:\n",
    "`sizeof(type)` is used to get the size.\n",
    "1. Integer:\n",
    "    - **signed int:** The integers (except char) are **signed number** (which can hold zero, positive and negative numbers).\n",
    "    - **unsigned int:** unsigned integers (which can hold zero and positive numbers).\n"
   ]
  },
  {
   "cell_type": "code",
   "execution_count": 50,
   "metadata": {
    "vscode": {
     "languageId": "cpp"
    }
   },
   "outputs": [
    {
     "name": "stdout",
     "output_type": "stream",
     "text": [
      "Integers:\n",
      "\n",
      "int: 4 bytes\n",
      "sizeof(int/signed int) is 4 bytes  range -2.14748e+09 to 2.14748e+09\n",
      "sizeof(unsigned int) is 4 bytes  range 0 to 4.29497e+09\n",
      "\n",
      "char: 1 bytes\n",
      "sizeof(char) is 1 bytes  range -128 to 127\n",
      "sizeof(unsigned char) is 1 bytes  range 0 to 255\n",
      "\n",
      "short: 2 bytes\n",
      "sizeof(short/short int/signed short/ signed short int) is 2 bytes  range -32768 to 32767\n",
      "sizeof(unsigned short/unsigned short int) is 2 bytes  range 0 to 65535\n",
      "\n",
      "Long: typical(8) bytes but minimum 4 bytes\n",
      "sizeof(long/long int/signed long/ signed long int) is 8 bytes  range -9.22337e+18 to 9.22337e+18\n",
      "sizeof(long/long int/signed long/ signed long int) is 8 or 4 bytes  range -2.14748e+09 to 2.14748e+09\n",
      "sizeof(unsigned long/unsigned long int) is 8 bytes  range 0 to 1.84467e+19\n",
      "\n",
      "long long: 8 bytes\n",
      "sizeof(long long/long long int/signed long long/ signed long long int) is 8 bytes  range -9.22337e+18 to 9.22337e+18\n",
      "sizeof(unsigned long long/unsigned long long int) is 8 bytes  range 0 to 1.84467e+19\n"
     ]
    },
    {
     "name": "stdout",
     "output_type": "stream",
     "text": [
      "End of Integers:\n",
      "\n",
      "Real Number\n",
      "float 4 bytes\n",
      "sizeof(float) is 4 bytes  range -2.14748e+09 to 2.14748e+09\n",
      "sizeof(double) is 8 bytes  range -9.22337e+18 to 9.22337e+18\n",
      "sizeof(long double) is 16 bytes  range -1.70141e+38 to 1.70141e+38\n",
      "double 8 bytes\n",
      "long double 12 bytes typical(8)\n",
      "\n",
      "End of Real Number\n",
      "\n",
      "Wide Characters 2 but tipically (4) bytes\n",
      "sizeof(wchar_t/char16_t/char32_t) is 4 bytes  range -2.14748e+09 to 2.14748e+09\n",
      "sizeof(bool) is 1 bytes \n"
     ]
    }
   ],
   "source": [
    "void dataType(){\n",
    "    cout<<\"Integers:\\n\";\n",
    "    cout<<\"\\nint: 4 bytes\\n\";\n",
    "    cout << \"sizeof(int/signed int) is \" << sizeof(int) << \" bytes \" << \" range \"<< -pow(2,sizeof(int)*8-1) <<\" to \"<< (pow(2,sizeof(int)*8-1))-1 << endl;\n",
    "    cout << \"sizeof(unsigned int) is \" << sizeof(unsigned int) << \" bytes \" << \" range \"<<0 <<\" to \"<<(pow(2,sizeof(int)*8))-1<< endl;\n",
    "    \n",
    "    cout<<\"\\nchar: 1 bytes\\n\";\n",
    "    cout << \"sizeof(char) is \" << sizeof(char) << \" bytes \" << \" range \"<< -pow(2,sizeof(char)*8-1) <<\" to \"<<pow(2,((sizeof(char)*8)-1))-1<< endl;\n",
    "    cout << \"sizeof(unsigned char) is \" << sizeof(unsigned char) << \" bytes \" << \" range \"<< 0 <<\" to \"<<pow(2,(sizeof(unsigned char)*8))-1<< endl;\n",
    "\n",
    "    cout<<\"\\nshort: 2 bytes\\n\";\n",
    "    cout << \"sizeof(short/short int/signed short/ signed short int) is \" << sizeof(short) << \" bytes \" << \" range \"<< -pow(2,sizeof(short)*8-1) <<\" to \"<< (pow(2,sizeof(short)*8-1))-1 << endl;\n",
    "    cout << \"sizeof(unsigned short/unsigned short int) is \" << sizeof(unsigned short int) << \" bytes \" << \" range \"<< 0 <<\" to \"<< (pow(2,sizeof(unsigned short int)*8))-1 << endl;\n",
    "\n",
    "\n",
    "    cout<<\"\\nLong: typical(8) bytes but minimum 4 bytes\\n\";\n",
    "    cout << \"sizeof(long/long int/signed long/ signed long int) is \" << sizeof(long) << \" bytes \" << \" range \"<< -pow(2,sizeof(signed long int)*8-1) <<\" to \"<< (pow(2,sizeof(signed long int)*8-1))-1 << endl;\n",
    "    cout << \"sizeof(long/long int/signed long/ signed long int) is \" << sizeof(signed long int) << \" or 4 bytes \" << \" range \"<< -pow(2,4*8-1) <<\" to \"<< (pow(2,4*8-1))-1 << endl;\n",
    "    cout << \"sizeof(unsigned long/unsigned long int) is \" << sizeof(unsigned long int) << \" bytes \" << \" range \"<< 0 <<\" to \"<< (pow(2,sizeof(unsigned long int)*8))-1 << endl;\n",
    "\n",
    "    cout<<\"\\nlong long: 8 bytes\\n\";\n",
    "    cout << \"sizeof(long long/long long int/signed long long/ signed long long int) is \" << sizeof(long long) << \" bytes \" << \" range \"<< -pow(2,sizeof(signed long long int)*8-1) <<\" to \"<< (pow(2,sizeof(signed long long int)*8-1))-1 << endl;\n",
    "    cout << \"sizeof(unsigned long long/unsigned long long int) is \" << sizeof(unsigned long long int) << \" bytes \" << \" range \"<< 0 <<\" to \"<< (pow(2,sizeof(unsigned long long int)*8))-1 << endl;\n",
    "    cout<<\"End of Integers:\\n\";\n",
    "\n",
    "    cout<<\"\\nReal Number\\n\";\n",
    "    cout<<\"float 4 bytes\"<<endl;\n",
    "    cout << \"sizeof(float) is \" << sizeof(float) << \" bytes \" << \" range \"<< -pow(2,sizeof(float)*8-1) <<\" to \"<< (pow(2,sizeof(float)*8-1))-1 << endl;\n",
    "    cout << \"sizeof(double) is \" << sizeof(double) << \" bytes \" << \" range \"<< -pow(2,sizeof(double)*8-1) <<\" to \"<< (pow(2,sizeof(double)*8-1))-1 << endl;\n",
    "    cout << \"sizeof(long double) is \" << sizeof(long double) << \" bytes \" << \" range \"<< -pow(2,sizeof(long double)*8-1) <<\" to \"<< (pow(2,sizeof(long double)*8-1))-1 << endl;\n",
    "\n",
    "    cout<<\"double 8 bytes\"<<endl;\n",
    "    cout<<\"long double 12 bytes typical(8)\"<<endl;\n",
    "    cout<<\"\\nEnd of Real Number\\n\";\n",
    "\n",
    "    cout<<\"\\nWide Characters 2 but tipically (4) bytes\\n\";\n",
    "    cout << \"sizeof(wchar_t/char16_t/char32_t) is \" << sizeof(char32_t) << \" bytes \" << \" range \"<< -pow(2,sizeof(char32_t)*8-1) <<\" to \"<< (pow(2,sizeof(char32_t)*8-1))-1 << endl;\n",
    "\n",
    "   cout << \"sizeof(bool) is \" << sizeof(bool) << \" bytes \" << endl;\n",
    "}\n",
    "dataType();"
   ]
  },
  {
   "attachments": {},
   "cell_type": "markdown",
   "metadata": {},
   "source": [
    "1.2 ***`Header <climits>`:***\n",
    "The climits header (ported to C++ from C's limits.h) contains information about limits of integer type."
   ]
  },
  {
   "cell_type": "code",
   "execution_count": 52,
   "metadata": {
    "vscode": {
     "languageId": "cpp"
    }
   },
   "outputs": [
    {
     "name": "stdout",
     "output_type": "stream",
     "text": [
      "int max = 2147483647\n",
      "int min = -2147483648\n",
      "unsigned int max = 4294967295\n",
      "long long max = 9223372036854775807\n",
      "long long min = -9223372036854775808\n",
      "unsigned long long max = 18446744073709551615\n",
      "Bits in char = 8\n",
      "char max = 127\n",
      "char min = -128\n",
      "signed char max = 127\n",
      "signed char min = -128\n",
      "unsigned char max = 255\n"
     ]
    }
   ],
   "source": [
    "void intTypeLimit(){\n",
    "    cout << \"int max = \" << INT_MAX << endl;\n",
    "    cout << \"int min = \" << INT_MIN << endl;\n",
    "    cout << \"unsigned int max = \" << UINT_MAX << endl;\n",
    "    cout << \"long long max = \" << LLONG_MAX << endl;\n",
    "    cout << \"long long min = \" << LLONG_MIN << endl;\n",
    "    cout << \"unsigned long long max = \" << ULLONG_MAX << endl;\n",
    "    cout << \"Bits in char = \" << CHAR_BIT << endl;\n",
    "    cout << \"char max = \" << CHAR_MAX << endl;\n",
    "    cout << \"char min = \" << CHAR_MIN << endl;\n",
    "    cout << \"signed char max = \" << SCHAR_MAX << endl;\n",
    "    cout << \"signed char min = \" << SCHAR_MIN << endl;\n",
    "    cout << \"unsigned char max = \" << UCHAR_MAX << endl;\n",
    "}\n",
    "intTypeLimit();"
   ]
  },
  {
   "attachments": {},
   "cell_type": "markdown",
   "metadata": {},
   "source": [
    "1.3 ***`Header <cfloat>`:***\n",
    "The climits header (ported to C++ from C's limits.h) contains information about limits of integer type."
   ]
  },
  {
   "cell_type": "code",
   "execution_count": 57,
   "metadata": {
    "vscode": {
     "languageId": "cpp"
    }
   },
   "outputs": [
    {
     "name": "stdout",
     "output_type": "stream",
     "text": [
      "Maximum float value: 3.40282e+38 and 4 bytes \n",
      "Minimum float value: 1.17549e-38 and 4 bytes \n",
      "Number of decimal digits of precision: 6\n"
     ]
    }
   ],
   "source": [
    "void floatTypeLimit(){\n",
    "    std::cout << \"Maximum float value: \" << FLT_MAX << \" and \" << sizeof(FLT_MAX) << \" bytes \" << std::endl;\n",
    "    std::cout << \"Minimum float value: \" << FLT_MIN << \" and \" << sizeof(FLT_MIN) << \" bytes \" << std::endl;\n",
    "    std::cout << \"Number of decimal digits of precision: \" << FLT_DIG << std::endl;\n",
    "}\n",
    "floatTypeLimit();"
   ]
  },
  {
   "attachments": {},
   "cell_type": "markdown",
   "metadata": {},
   "source": [
    "### 2. Literal:\n",
    "A literal is a specific constant value, such as 123, -456, 3.14, 'a', \"Hello\", that can be assigned directly to a variable; or used as part of an expression. They are called literals because they literally and explicitly identify their values."
   ]
  },
  {
   "attachments": {},
   "cell_type": "markdown",
   "metadata": {},
   "source": [
    "#### 2.1 Interger Literal:\n",
    "- 01234:  Octal 1234, Decimal 2322.\n",
    "- 0x1abc: hexadecimal 1ABC, decimal 15274\n",
    "- 0b10001001: binary (may not work in some compilers)"
   ]
  },
  {
   "cell_type": "code",
   "execution_count": 62,
   "metadata": {
    "vscode": {
     "languageId": "cpp"
    }
   },
   "outputs": [
    {
     "name": "stdout",
     "output_type": "stream",
     "text": [
      " number1 = 1234 number2 = 668 number3 = 6844 number4= 137\n",
      " number = 12345678 sum = 123 bigNumber = 987654321\n"
     ]
    }
   ],
   "source": [
    "// Integer Literals\n",
    "int number1 = 1234;       // Decimal\n",
    "int number2 = 01234;      // Octal 1234, Decimal 2322\n",
    "int number3 = 0x1abc;     // hexadecimal 1ABC, decimal 15274\n",
    "int number4 = 0b10001001; // binary (may not work in some compilers)\n",
    "cout<<\" number1 = \"<<number1<<\" number2 = \"<<number2<<\" number3 = \"<<number3<<\" number4= \"<<number4<<endl;\n",
    "\n",
    "//  long literal\n",
    "long number = 12345678L;     // Suffix 'L' for long\n",
    "long sum = 123;              // int 123 auto-casts to long 123L\n",
    "long long bigNumber = 987654321LL;  // Need suffix 'LL' for long long int\n",
    "cout<<\" number = \"<<number<<\" sum = \"<<sum<<\" bigNumber = \"<<bigNumber<<endl;\n"
   ]
  },
  {
   "cell_type": "code",
   "execution_count": 67,
   "metadata": {
    "vscode": {
     "languageId": "cpp"
    }
   },
   "outputs": [],
   "source": [
    "// float literal\n",
    "float average = 55.66;      //  Need suffix 'f' for float.\n",
    "float average1 = 55.66f;"
   ]
  },
  {
   "attachments": {},
   "cell_type": "markdown",
   "metadata": {},
   "source": [
    "#### 2.2 Charecter Literal `<ctype.h>`:\n",
    "The cctype header (ported from C's ctype.h) provides functions such as isalpha(), isdigit(), isspace(), ispunct(), isalnum(), isupper(), islower() to determine the type of character; and toupper(), tolower() for case conversion."
   ]
  },
  {
   "cell_type": "code",
   "execution_count": 73,
   "metadata": {
    "vscode": {
     "languageId": "cpp"
    }
   },
   "outputs": [
    {
     "name": "stdout",
     "output_type": "stream",
     "text": [
      "Character: A\n",
      "Is alphabetic? Yes\n",
      "Is uppercase? Yes\n",
      "Is lowercase? No\n",
      "Is digit? No\n",
      "Converted to lowercase: a\n"
     ]
    }
   ],
   "source": [
    "#include<ctype.h>\n",
    "\n",
    "char ch = 'A';\n",
    "std::cout << \"Character: \" << ch << std::endl;\n",
    "std::cout << \"Is alphabetic? \" << (isalpha(ch) ? \"Yes\" : \"No\") << std::endl;\n",
    "std::cout << \"Is uppercase? \" << (isupper(ch) ? \"Yes\" : \"No\") << std::endl;\n",
    "std::cout << \"Is lowercase? \" << (islower(ch) ? \"Yes\" : \"No\") << std::endl;\n",
    "std::cout << \"Is digit? \" << (isdigit(ch) ? \"Yes\" : \"No\") << std::endl;\n",
    "std::cout << \"Converted to lowercase: \" << static_cast<char>(tolower(ch)) << std::endl;\n"
   ]
  },
  {
   "attachments": {},
   "cell_type": "markdown",
   "metadata": {},
   "source": [
    "#### 2.3 String Literals:\n",
    "A String literal is composed of zero of more characters surrounded by a pair of double quotes, e.g., \"Hello, world!\", \"The sum is \", \"\"."
   ]
  },
  {
   "cell_type": "code",
   "execution_count": 74,
   "metadata": {
    "vscode": {
     "languageId": "cpp"
    }
   },
   "outputs": [],
   "source": [
    "string directionMsg = \"Turn Right\";"
   ]
  },
  {
   "attachments": {},
   "cell_type": "markdown",
   "metadata": {},
   "source": [
    "### 3. Overflow/UnderFlow:\n",
    "Overflow and underflow occur when the result of an arithmetic operation exceeds the maximum representable value or falls below the minimum representable value for a particular data type. In C++, overflowing or underflowing a variable can lead to unexpected behavior and incorrect results."
   ]
  },
  {
   "cell_type": "code",
   "execution_count": 75,
   "metadata": {
    "vscode": {
     "languageId": "cpp"
    }
   },
   "outputs": [
    {
     "name": "stdout",
     "output_type": "stream",
     "text": [
      "Maximum value of int: 2147483647\n",
      "Minimum value of int: -2147483648\n",
      "Overflow result: -2147483648\n",
      "Underflow result: 2147483647\n"
     ]
    }
   ],
   "source": [
    "#include <limits>\n",
    "\n",
    "int maxValue = std::numeric_limits<int>::max();\n",
    "int minValue = std::numeric_limits<int>::min();\n",
    "\n",
    "std::cout << \"Maximum value of int: \" << maxValue << std::endl;\n",
    "std::cout << \"Minimum value of int: \" << minValue << std::endl;\n",
    "\n",
    "int overflowResult = maxValue + 1;\n",
    "int underflowResult = minValue - 1;\n",
    "\n",
    "std::cout << \"Overflow result: \" << overflowResult << std::endl;\n",
    "std::cout << \"Underflow result: \" << underflowResult << std::endl;"
   ]
  },
  {
   "attachments": {},
   "cell_type": "markdown",
   "metadata": {},
   "source": [
    "### 4. Operators:"
   ]
  },
  {
   "attachments": {},
   "cell_type": "markdown",
   "metadata": {},
   "source": [
    "#### 4.1: pre increment and post increment:"
   ]
  },
  {
   "cell_type": "code",
   "execution_count": 79,
   "metadata": {
    "vscode": {
     "languageId": "cpp"
    }
   },
   "outputs": [
    {
     "name": "stdout",
     "output_type": "stream",
     "text": [
      "5\n",
      "6\n",
      "6\n",
      "6\n"
     ]
    }
   ],
   "source": [
    "// pre increment and post increment\n",
    "int x = 5;\n",
    "cout<<x++<<endl;\n",
    "cout<<x<<endl;\n",
    "int y = 5;\n",
    "cout<<++y<<endl;\n",
    "cout<<y<<endl;"
   ]
  },
  {
   "attachments": {},
   "cell_type": "markdown",
   "metadata": {},
   "source": [
    "### 5. Type Casting:"
   ]
  },
  {
   "cell_type": "code",
   "execution_count": 93,
   "metadata": {
    "vscode": {
     "languageId": "cpp"
    }
   },
   "outputs": [
    {
     "name": "stdout",
     "output_type": "stream",
     "text": [
      "Average is 5\n"
     ]
    }
   ],
   "source": [
    "void typecasting(){\n",
    "    int sum = 0;\n",
    "    double average;\n",
    "    for (int number = 1; number <= 10; ++number) {\n",
    "        sum += number; \n",
    "    }\n",
    "    average = sum / 10;\n",
    "    cout << \"Average is \" <<(int)average << endl;  // Average is 5\n",
    "}\n",
    "typecasting();"
   ]
  }
 ],
 "metadata": {
  "kernelspec": {
   "display_name": "C++17",
   "language": "C++17",
   "name": "xcpp17"
  },
  "language_info": {
   "codemirror_mode": "text/x-c++src",
   "file_extension": ".cpp",
   "mimetype": "text/x-c++src",
   "name": "c++",
   "version": "17"
  },
  "orig_nbformat": 4
 },
 "nbformat": 4,
 "nbformat_minor": 2
}
