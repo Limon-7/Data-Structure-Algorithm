{
 "cells": [
  {
   "cell_type": "markdown",
   "metadata": {},
   "source": [
    "## List Comprehension"
   ]
  },
  {
   "cell_type": "code",
   "execution_count": 1,
   "metadata": {},
   "outputs": [
    {
     "name": "stdout",
     "output_type": "stream",
     "text": [
      "[0, 1, 4, 9, 16]\n"
     ]
    }
   ],
   "source": [
    "squares = [x**2 for x in range(5)]\n",
    "print(squares)"
   ]
  },
  {
   "cell_type": "code",
   "execution_count": 8,
   "metadata": {},
   "outputs": [
    {
     "name": "stdout",
     "output_type": "stream",
     "text": [
      "[0, 8, 16, 24, 32, 40, 48, 56, 64, 72, 80, 88, 96, 104, 112, 120]\n",
      "[0, 8, 16, 24, 32, 40, 48, 56, 64, 72, 80, 88, 96, 104, 112, 120]\n"
     ]
    }
   ],
   "source": [
    "def f1(x: int) -> int:\n",
    "    return x * 2\n",
    "\n",
    "\n",
    "def f2(x: int) -> int:\n",
    "    return x * 4\n",
    "\n",
    "\n",
    "lst = []\n",
    "for i in range(16):\n",
    "    lst.append(f2(f1(i)))\n",
    "print(lst)\n",
    "print([f1(x) for x in range(64) if x in [f2(j) for j in range(16)]])"
   ]
  },
  {
   "cell_type": "markdown",
   "metadata": {},
   "source": [
    "### Multiple loop with List Comprehension"
   ]
  },
  {
   "cell_type": "code",
   "execution_count": 9,
   "metadata": {},
   "outputs": [
    {
     "name": "stdout",
     "output_type": "stream",
     "text": [
      "[[0, 1, 2], [0, 1, 2], [0, 1, 2]]\n"
     ]
    }
   ],
   "source": [
    "matrix = [[i for i in range(3)] for j in range(3)]\n",
    "print(matrix)"
   ]
  },
  {
   "cell_type": "code",
   "execution_count": 10,
   "metadata": {},
   "outputs": [
    {
     "name": "stdout",
     "output_type": "stream",
     "text": [
      "[(0, 0), (0, 1), (0, 2), (1, 0), (1, 1), (1, 2), (2, 0), (2, 1), (2, 2)]\n"
     ]
    }
   ],
   "source": [
    "pairs = [(i, j) for i in range(3) for j in range(3)]\n",
    "print(pairs)"
   ]
  },
  {
   "cell_type": "code",
   "execution_count": 11,
   "metadata": {},
   "outputs": [
    {
     "name": "stdout",
     "output_type": "stream",
     "text": [
      "['0: Alice', '1: Bob', '2: Charlie']\n"
     ]
    }
   ],
   "source": [
    "names = [\"Alice\", \"Bob\", \"Charlie\"]\n",
    "indexed_names = [f\"{index}: {name}\" for index, name in enumerate(names)]\n",
    "print(indexed_names)"
   ]
  },
  {
   "cell_type": "code",
   "execution_count": 12,
   "metadata": {},
   "outputs": [
    {
     "name": "stdout",
     "output_type": "stream",
     "text": [
      "[0, 6, 12, 18]\n"
     ]
    }
   ],
   "source": [
    "divisible_by_2_and_3 = [x for x in range(20) if x % 2 == 0 if x % 3 == 0]\n",
    "print(divisible_by_2_and_3)"
   ]
  },
  {
   "cell_type": "code",
   "execution_count": 23,
   "metadata": {},
   "outputs": [
    {
     "name": "stdout",
     "output_type": "stream",
     "text": [
      "[2, 4, 6, 8]\n",
      "[2, 4, 6, 8]\n",
      "[2, 4, 6, 8]\n"
     ]
    }
   ],
   "source": [
    "matrix = [[1, 2, 3], [4, 5, 6], [7, 8, 9]]\n",
    "flat_even_numbers = [num for row in matrix for num in row if num % 2 == 0]\n",
    "print(flat_even_numbers)\n",
    "\n",
    "list = []\n",
    "for row in matrix:\n",
    "    for col in row:\n",
    "        if col % 2 == 0:\n",
    "            list.append(col)\n",
    "print(list)\n",
    "\n",
    "list1 = []\n",
    "for i, row in enumerate(matrix):\n",
    "    for j, col in enumerate(matrix[i]):\n",
    "        if matrix[i][j] % 2 == 0:\n",
    "            list1.append(matrix[i][j])\n",
    "print(list1)"
   ]
  },
  {
   "cell_type": "code",
   "execution_count": 15,
   "metadata": {},
   "outputs": [
    {
     "name": "stdout",
     "output_type": "stream",
     "text": [
      "[2, 4, 6, 8]\n"
     ]
    }
   ],
   "source": [
    "matrix = [[1, 2, 3], [4, 5, 6], [7, 8, 9]]"
   ]
  },
  {
   "cell_type": "code",
   "execution_count": 25,
   "metadata": {},
   "outputs": [
    {
     "name": "stdout",
     "output_type": "stream",
     "text": [
      "[[0, 2, 0], [4, 0, 6], [0, 8, 0]]\n",
      "[[0, 2, 0], [4, 0, 6], [0, 8, 0]]\n"
     ]
    }
   ],
   "source": [
    "def manipulate_matrix(matrix):\n",
    "    return [[num if num % 2 == 0 else 0 for num in row] for row in matrix]\n",
    "\n",
    "matrix = [\n",
    "    [1, 2, 3],\n",
    "    [4, 5, 6],\n",
    "    [7, 8, 9]\n",
    "]\n",
    "\n",
    "result = manipulate_matrix(matrix)\n",
    "print(result)\n",
    "\n",
    "for i, row in enumerate(matrix):\n",
    "    for j, col in enumerate(matrix[i]):\n",
    "        if matrix[i][j] % 2 != 0:\n",
    "            matrix[i][j]=0\n",
    "print(matrix)"
   ]
  }
 ],
 "metadata": {
  "kernelspec": {
   "display_name": "Python 3",
   "language": "python",
   "name": "python3"
  },
  "language_info": {
   "codemirror_mode": {
    "name": "ipython",
    "version": 3
   },
   "file_extension": ".py",
   "mimetype": "text/x-python",
   "name": "python",
   "nbconvert_exporter": "python",
   "pygments_lexer": "ipython3",
   "version": "3.11.9"
  }
 },
 "nbformat": 4,
 "nbformat_minor": 2
}
