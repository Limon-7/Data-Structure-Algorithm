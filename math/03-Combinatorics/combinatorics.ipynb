{
 "cells": [
  {
   "attachments": {},
   "cell_type": "markdown",
   "metadata": {},
   "source": [
    "### Combinatorics:\n",
    "1. Fundamentals\n",
    "    1. Finding Power of Factorial Divisor\n",
    "    2. Binomial Coefficients\n",
    "    3. Catalan Numbers\n",
    "2. Techniques\n",
    "    1. The Inclusion-Exclusion Principle\n",
    "    2. Burnside's lemma / Pólya enumeration theorem\n",
    "    3. Stars and bars\n",
    "    4. Generating all K-combinations\n",
    "3. Tasks:\n",
    "    1. Placing Bishops on a Chessboard\n",
    "    2. Balanced bracket sequences\n",
    "    3. Counting labeled graphs"
   ]
  },
  {
   "attachments": {},
   "cell_type": "markdown",
   "metadata": {},
   "source": []
  },
  {
   "cell_type": "code",
   "execution_count": null,
   "metadata": {},
   "outputs": [],
   "source": []
  }
 ],
 "metadata": {
  "language_info": {
   "name": "python"
  },
  "orig_nbformat": 4
 },
 "nbformat": 4,
 "nbformat_minor": 2
}
