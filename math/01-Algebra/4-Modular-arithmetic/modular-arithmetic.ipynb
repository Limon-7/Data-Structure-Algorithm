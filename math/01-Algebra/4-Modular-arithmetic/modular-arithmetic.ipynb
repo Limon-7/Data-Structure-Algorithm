{
 "cells": [
  {
   "attachments": {},
   "cell_type": "markdown",
   "metadata": {},
   "source": [
    "### Modular arithmetic\n",
    "1. Modular Inverse\n",
    "2. Linear Congruence Equation\n",
    "3. Chinese Remainder Theorem\n",
    "4. Garner's Algorithm\n",
    "5. Factorial modulo p\n",
    "6. Discrete Log\n",
    "7. Primitive Root\n",
    "8. Discrete Root\n",
    "9. Montgomery Multiplication"
   ]
  },
  {
   "cell_type": "code",
   "execution_count": null,
   "metadata": {},
   "outputs": [],
   "source": []
  }
 ],
 "metadata": {
  "language_info": {
   "name": "python"
  },
  "orig_nbformat": 4
 },
 "nbformat": 4,
 "nbformat_minor": 2
}
