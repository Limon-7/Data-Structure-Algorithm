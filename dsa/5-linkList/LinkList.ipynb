{
 "cells": [
  {
   "attachments": {},
   "cell_type": "markdown",
   "metadata": {},
   "source": [
    "### LinkList:\n",
    "A linked list is a linear data structure that consists of a sequence of elements, where each element contains a reference (link) to the next element in the sequence. It is a dynamic data structure that allows efficient insertion and deletion of elements at any position, but accessing elements by index takes linear time.\n",
    "\n",
    "Operation:\n",
    "1. Traverse\n",
    "2. Insertion\n",
    "3. Delation\n",
    "4. Searching\n",
    "5. Sorting\n",
    "\n",
    "Type:\n",
    "serail|type|C++|python|\n",
    "---|:---:|---:|---:\n",
    "01|Singly LinkList | | |\n",
    "02|Doubly LinkList | | |\n",
    "03|Circular LinkList | | |\n",
    "04|Circular Doybly LinkList | | |\n",
    "\n",
    "Problem List:\n",
    "\n",
    "- [1](https://leetcode.com/problems/merge-two-sorted-lists/)\n"
   ]
  },
  {
   "cell_type": "code",
   "execution_count": null,
   "metadata": {},
   "outputs": [],
   "source": []
  }
 ],
 "metadata": {
  "kernelspec": {
   "display_name": "Python 3",
   "language": "python",
   "name": "python3"
  },
  "language_info": {
   "name": "python",
   "version": "3.11.3"
  },
  "orig_nbformat": 4
 },
 "nbformat": 4,
 "nbformat_minor": 2
}
