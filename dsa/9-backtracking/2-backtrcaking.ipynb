{
 "cells": [
  {
   "attachments": {},
   "cell_type": "markdown",
   "metadata": {},
   "source": [
    "## backtracking algorithm:\n",
    "A backtracking algorithm is a problem-solving algorithm that uses a brute force approach for finding the desired output.\n",
    "\n",
    "The term backtracking suggests that if the current solution is not suitable, then backtrack and try other solutions. Thus, recursion is used in this approach.\n",
    "\n",
    "Applications:\n",
    "1. To find all Hamiltonian Paths present in a graph.\n",
    "2. To solve the N Queen problem.\n",
    "3. Maze solving problem.\n",
    "4. The Knight's tour problem."
   ]
  },
  {
   "attachments": {},
   "cell_type": "markdown",
   "metadata": {},
   "source": []
  }
 ],
 "metadata": {
  "language_info": {
   "name": "python"
  },
  "orig_nbformat": 4
 },
 "nbformat": 4,
 "nbformat_minor": 2
}
