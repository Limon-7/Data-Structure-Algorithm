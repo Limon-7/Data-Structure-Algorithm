{
 "cells": [
  {
   "attachments": {},
   "cell_type": "markdown",
   "metadata": {},
   "source": [
    "### LinkList:\n",
    "A linked list is a linear data structure that consists of a sequence of elements, where each element contains a reference (link) to the next element in the sequence. It is a dynamic data structure that allows efficient insertion and deletion of elements at any position, but accessing elements by index takes linear time.\n",
    "\n",
    "![linklist](../../images/linklist.png)\n",
    "\n",
    "**Note:** Every link list has a head pointer which points the  first Node.\n",
    "\n",
    "Operation:\n",
    "1. Traverse\n",
    "2. Insertion\n",
    "3. Delation\n",
    "4. Searching\n",
    "5. Sorting\n",
    "\n",
    "Type:\n",
    "serail|type|C++|python|\n",
    "---|:---:|---:|---:\n",
    "01|Singly LinkList | | |\n",
    "02|Doubly LinkList | | |\n",
    "03|Circular LinkList | | |\n",
    "04|Circular Doybly LinkList | | |\n",
    "\n",
    "Problem List:\n",
    "\n",
    "- [1](https://leetcode.com/problems/merge-two-sorted-lists/)\n"
   ]
  },
  {
   "attachments": {},
   "cell_type": "markdown",
   "metadata": {},
   "source": [
    "#### Why Link list data structure is needed?\n",
    "1. Dynamic Data structure: The size of memory can be allocated or de-allocated at run time based on the operation insertion or deletion.\n",
    "\n",
    "2. Ease of Insertion/Deletion: The insertion and deletion of elements are simpler than arrays since no elements need to be shifted after insertion and deletion, Just the address needed to be updated.\n",
    "\n",
    "3. Efficient Memory Utilization: As we know Linked List is a dynamic data structure the size increases or decreases as per the requirement so this avoids the wastage of memory. \n",
    "\n",
    "4. Implementation: Various advanced data structures can be implemented using a linked list like a stack, queue, graph, hash maps, etc."
   ]
  },
  {
   "cell_type": "code",
   "execution_count": 6,
   "metadata": {},
   "outputs": [
    {
     "name": "stdout",
     "output_type": "stream",
     "text": [
      "3 4 \n"
     ]
    }
   ],
   "source": [
    "from typing import List\n",
    "\n",
    "\n",
    "class Node:\n",
    "    def __init__(self, data):\n",
    "        self.data = data\n",
    "        self.next = None\n",
    "        self.prev = None\n",
    "\n",
    "\n",
    "class Linklist:\n",
    "    def __init__(self):\n",
    "        self.head = None\n",
    "        self.tail = None\n",
    "\n",
    "    def convertArrayToDLL(self, arr: List[int]):\n",
    "        self.head = Node(arr[0])\n",
    "        curr = self.head\n",
    "        for i in arr[1:]:\n",
    "            newNode = Node(i)\n",
    "            newNode.prev = curr\n",
    "            newNode.next = None\n",
    "            curr.next = newNode\n",
    "            curr = newNode\n",
    "\n",
    "    def traverse(self):\n",
    "        ptr = self.head\n",
    "        while ptr != None:\n",
    "            print(ptr.data, end=\" \")\n",
    "            ptr = ptr.next\n",
    "        print()\n",
    "\n",
    "    def removeAtFirst(self):\n",
    "        if self.head is None:\n",
    "            return\n",
    "        if self.head.next is None:\n",
    "            return\n",
    "        \n",
    "        self.head.prev=None\n",
    "        self.head = self.head.next\n",
    "\n",
    "    def removeAtLast(self):\n",
    "        if self.head is None:\n",
    "            return\n",
    "        last=self.head\n",
    "        while(last.next):\n",
    "            last=last.next\n",
    "        prev=last.prev\n",
    "        prev.next=None        \n",
    "\n",
    "\n",
    "# diriver code\n",
    "if __name__ == \"__main__\":\n",
    "    ll = Linklist()\n",
    "    ll.convertArrayToDLL([2, 3, 4, 5])\n",
    "    ll.removeAtFirst()\n",
    "    ll.removeAtLast()\n",
    "    ll.traverse()\n"
   ]
  },
  {
   "cell_type": "code",
   "execution_count": null,
   "metadata": {},
   "outputs": [],
   "source": []
  }
 ],
 "metadata": {
  "kernelspec": {
   "display_name": "Python 3",
   "language": "python",
   "name": "python3"
  },
  "language_info": {
   "codemirror_mode": {
    "name": "ipython",
    "version": 3
   },
   "file_extension": ".py",
   "mimetype": "text/x-python",
   "name": "python",
   "nbconvert_exporter": "python",
   "pygments_lexer": "ipython3",
   "version": "3.11.3"
  },
  "orig_nbformat": 4
 },
 "nbformat": 4,
 "nbformat_minor": 2
}
