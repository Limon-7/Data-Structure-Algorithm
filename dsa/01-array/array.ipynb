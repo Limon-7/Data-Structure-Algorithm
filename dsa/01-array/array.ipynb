{
 "cells": [
  {
   "attachments": {},
   "cell_type": "markdown",
   "metadata": {},
   "source": [
    "## Array:\n",
    "An array is a collection of items of same data type stored at contiguous memory locations.\n",
    "\n",
    "There are two types of array:\n",
    "1. Static Array: `Fixed sized`\n",
    "2. Dynamic Array"
   ]
  },
  {
   "cell_type": "markdown",
   "metadata": {},
   "source": [
    "### Static Array: `Fixed sized`\n",
    "| Operation  | Big-O Time   | \n",
    "|:-----------|:------------:|\n",
    "| r/w $i^{th}$ element       | O(1)       |\n",
    "| Insert / Remove End  | O(1) |\n",
    "| Insert Middle | O(n) |\n",
    "| Remove Middle  | O(n) |\n",
    "\n",
    "Problem: `Initialization of the array size`"
   ]
  },
  {
   "cell_type": "markdown",
   "metadata": {},
   "source": [
    "\n",
    "### Dynamic Array:\n",
    "`in python and javascript dynamic arrays are default.`\n",
    "| Operation  | Big-O Time   | \n",
    "|:-----------|:------------:|\n",
    "| r/w $i^{th}$ element       | O(1)       |\n",
    "| Insert / Remove End  | O(1) |\n",
    "| Insert Middle | O(n) |\n",
    "| Remove Middle  | O(n) |"
   ]
  },
  {
   "cell_type": "markdown",
   "metadata": {},
   "source": [
    "### `KeyPoints`:\n",
    "1. `int arr[ 5 ] = {  };`\n",
    "2. `arr= []; //python`\n",
    "3. Maximum size of an arry: $10^6$ (inside of main function) however globally it will be $10^7$.\n",
    "4. We can access an array elelment by indexing.\n",
    "\n",
    "***Note:***<br>\n",
    "if we declare `int arr[10]` inside in `main()` function then all 10 indexes will fill up with garbage value. However if we decalre globally then all value wiil be filled up by `0`."
   ]
  },
  {
   "attachments": {},
   "cell_type": "markdown",
   "metadata": {},
   "source": [
    "### Prob#1. Find the largest element of an array."
   ]
  },
  {
   "cell_type": "code",
   "execution_count": 2,
   "metadata": {},
   "outputs": [
    {
     "name": "stdout",
     "output_type": "stream",
     "text": [
      "The Largest element in the array is: 5\n",
      "The Largest element in the array is: 10\n"
     ]
    }
   ],
   "source": [
    "from typing import List\n",
    "\n",
    "def largest(arr:List[int])->int:\n",
    "    arr.sort()\n",
    "    return arr[-1]\n",
    "if __name__==\"__main__\":\n",
    "    arr1 = [2, 5, 1, 3, 0]\n",
    "    arr2 = [8, 10, 5, 7, 9]\n",
    "    print(\"The Largest element in the array is:\", largest(arr1))\n",
    "    print(\"The Largest element in the array is:\", largest(arr2))\n",
    "'''\n",
    "Time Complexity: O(N*log(N))\n",
    "Space Complexity: O(n)\n",
    "'''\n"
   ]
  }
 ],
 "metadata": {
  "kernelspec": {
   "display_name": "Python 3",
   "language": "python",
   "name": "python3"
  },
  "language_info": {
   "codemirror_mode": {
    "name": "ipython",
    "version": 3
   },
   "file_extension": ".py",
   "mimetype": "text/x-python",
   "name": "python",
   "nbconvert_exporter": "python",
   "pygments_lexer": "ipython3",
   "version": "3.11.3"
  },
  "orig_nbformat": 4
 },
 "nbformat": 4,
 "nbformat_minor": 2
}
