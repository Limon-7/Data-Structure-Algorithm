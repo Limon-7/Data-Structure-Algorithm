{
 "cells": [
  {
   "cell_type": "markdown",
   "metadata": {},
   "source": [
    "# Heap/Priority Queue\n",
    "\n",
    "A heap is specific tree based data structure in which all nodes of tree are in a specific order. `We use heep to get min or max value readily and abrubtly O(1)`.\n",
    "\n",
    "There can be two types of heap:\n",
    "\n",
    "1. **_Max Heap_**: The value of parent node will always be **_`greater than or equal to the value of child node across the tree and the node with highest value will be the root node of the tree`_**.\n",
    "\n",
    "2. **_Min Heap_**: The value of parent `node will always be less than or equal to the value of child node across the tree and the node with lowest value will be the root node of tree`.\n"
   ]
  },
  {
   "cell_type": "markdown",
   "metadata": {},
   "source": [
    "**_Time Complexity:_**\n",
    "\n",
    "|  Operations | peek |   insert |   delete |\n",
    "| ----------: | ---: | -------: | -------: |\n",
    "| Linked List | O(1) |     O(n) |     O(1) |\n",
    "| Binary Heap | O(1) | O(log n) | O(log n) |\n",
    "|         BST | O(1) | O(log n) | O(log n) |\n"
   ]
  },
  {
   "cell_type": "markdown",
   "metadata": {},
   "source": [
    "### Structure Property:\n",
    "\n",
    "A binary heap is a **complete binary tree**(A complete binary tree is a type of binary tree in which all the levels, except possibly the last one, are completely filled, and all nodes are as far left as possible.).\n"
   ]
  },
  {
   "cell_type": "markdown",
   "metadata": {},
   "source": [
    "### Order Property:\n",
    "\n",
    "1. `LeftChild= 2*i`\n",
    "2. `Right Child= 2*i + 1`\n",
    "3. `Parent= i/2`\n"
   ]
  },
  {
   "cell_type": "markdown",
   "metadata": {},
   "source": [
    "```\n",
    "                               14\n",
    "                             /   \\\n",
    "                            /     \\\n",
    "                          19       16\n",
    "                         /  \\     /  \\\n",
    "                        /    \\   /    \\\n",
    "                      21     26 19     68\n",
    "                     /  \\\n",
    "                    /    \\\n",
    "                  65     30\n",
    "```\n",
    "\n",
    "|   0 |   1 |   2 |   3 |   4 |   5 |   6 |   7 |   8 |   9 |  10 |\n",
    "| --: | --: | --: | --: | --: | --: | --: | --: | --: | --: | --: |\n",
    "|   X |  14 |  19 |  16 |  21 |  26 |  19 |  68 |  65 |  30 |\n",
    "\n",
    "1. Put root node at index 1\n"
   ]
  },
  {
   "cell_type": "code",
   "execution_count": 6,
   "metadata": {},
   "outputs": [
    {
     "name": "stdout",
     "output_type": "stream",
     "text": [
      "[0, 14, 19, 16, 21, 26, 19, 68, 65, 30]\n",
      "[0, 16, 19, 19, 21, 26, 30, 68, 65]\n"
     ]
    }
   ],
   "source": [
    "class Heap:\n",
    "    def __init__(self) -> None:\n",
    "        self.heap = [0]\n",
    "\n",
    "    def push(self, val: int):\n",
    "        self.heap.append(val)\n",
    "        i = len(self.heap) - 1\n",
    "\n",
    "        while self.heap[i] < self.heap[i // 2]:\n",
    "            temp = self.heap[i]\n",
    "            p = i >> 1\n",
    "            self.heap[i] = self.heap[p]\n",
    "            self.heap[p] = temp\n",
    "            i = p\n",
    "\n",
    "    def min(self):\n",
    "        if len(self.heap) < 2:\n",
    "            return None\n",
    "        return self.heap[1]\n",
    "\n",
    "    def pop(self):\n",
    "        # Dummy data\n",
    "        if len(self.heap) == 1:\n",
    "            return None\n",
    "        # only one elemnt\n",
    "        if len(self.heap) == 2:\n",
    "            return self.heap.pop()\n",
    "        \n",
    "        # get the min value\n",
    "        res = self.heap[1]\n",
    "        # move last value to root\n",
    "        self.heap[1] = self.heap.pop()\n",
    "\n",
    "        i = 1\n",
    "        # loop will run untill the left element is null\n",
    "        while 2 * i < len(self.heap):\n",
    "            # right is minimum\n",
    "            # swap right\n",
    "            if (\n",
    "                2 * i + 1 < len(self.heap) - 1\n",
    "                and self.heap[2 * i + 1] < self.heap[2 * i]\n",
    "                and self.heap[i] > self.heap[2 * i + 1]\n",
    "            ):\n",
    "                temp = self.heap[i]\n",
    "                self.heap[i] = self.heap[2 * i + 1]\n",
    "                self.heap[2 * i + 1] = temp\n",
    "                i = 2 * i + 1\n",
    "            # left is minimum\n",
    "            # swap left\n",
    "            elif self.heap[i] > self.heap[2 * i]:\n",
    "                temp = self.heap[i]\n",
    "                self.heap[i] = self.heap[2 * i]\n",
    "                self.heap[2 * i] = temp\n",
    "                i = 2 * i\n",
    "            else:\n",
    "                break\n",
    "        return res\n",
    "\n",
    "    def display(self):\n",
    "        print(self.heap)\n",
    "\n",
    "\n",
    "if __name__ == \"__main__\":\n",
    "    h = Heap()\n",
    "    h.push(14)\n",
    "    h.push(19)\n",
    "    h.push(16)\n",
    "    h.push(21)\n",
    "    h.push(26)\n",
    "    h.push(19)\n",
    "    h.push(68)\n",
    "    h.push(65)\n",
    "    h.push(30)\n",
    "    h.display()\n",
    "    h.pop()\n",
    "    h.display()"
   ]
  },
  {
   "cell_type": "markdown",
   "metadata": {},
   "source": [
    "Applications of Priority Queue:\n",
    "\n",
    "1. Dijkstra's Algorithm: Used in finding the shortest path in a graph.\n",
    "2. Huffman Coding: Used in data compression algorithms.\n",
    "3. Event-Driven Simulations: Managing events in a simulation system.\n",
    "4. Task Scheduling: Operating systems and task management.\n"
   ]
  }
 ],
 "metadata": {
  "kernelspec": {
   "display_name": "Python 3",
   "language": "python",
   "name": "python3"
  },
  "language_info": {
   "codemirror_mode": {
    "name": "ipython",
    "version": 3
   },
   "file_extension": ".py",
   "mimetype": "text/x-python",
   "name": "python",
   "nbconvert_exporter": "python",
   "pygments_lexer": "ipython3",
   "version": "3.11.3"
  }
 },
 "nbformat": 4,
 "nbformat_minor": 2
}
