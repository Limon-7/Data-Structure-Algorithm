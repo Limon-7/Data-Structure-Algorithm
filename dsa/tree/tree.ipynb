{
 "cells": [
  {
   "attachments": {},
   "cell_type": "markdown",
   "metadata": {},
   "source": [
    "### Tree Data Structure\n",
    "One of the disadvantages of using an array or linked list to store data is the time necessary to search for an item. Since both the arrays and Linked Lists are linear structures the time required to search a “linear” list is proportional to the size of the data set.\n",
    "\n",
    "A tree is a collection of nodes connected by directed (or undirected) edges. A tree is a nonlinear data structure, compared to arrays, linked lists, stacks and queues which are linear data structures. A tree can be empty with no nodes or a tree is a structure consisting of one node called the root and zero or one or more subtrees.\n",
    "\n"
   ]
  },
  {
   "attachments": {},
   "cell_type": "markdown",
   "metadata": {},
   "source": [
    "Common Term:\n",
    "\n",
    "1. ***Node:*** A node is an entity that contains a key or value and pointers to its child nodes.\n",
    "2. ***Edge:*** It is the link between any two nodes. \n",
    "3. ***leaves or external node:*** Nodes with no children are called leaves.\n",
    "4. ***Internal node:***  Nodes, which are not leaves, are called internal nodes. Internal nodes have at least one child.\n",
    "5. ***siblings:*** Nodes with the same parent are called siblings.\n",
    "6. ***depth of a node:*** The depth of a node is the number of edges from the root to the node.\n",
    "7. ***height of a tree:*** The height of a tree is the number of edges from the root-node to the deepest leaf. The height of B is 2. The height of a tree is a height of a root.\n",
    "8. ***height of a node:*** The height of a node is the number of edges from the node to the deepest leaf. The height of B is 2. The height of a tree is a height of a root.\n",
    "\n",
    "Types of Tree:\n",
    "1. Binary Tree\n",
    "2. Binary search tree\n",
    "3. AVL tree\n",
    "4. B-tree"
   ]
  },
  {
   "attachments": {},
   "cell_type": "markdown",
   "metadata": {},
   "source": [
    "#### Tree Applications:\n",
    "1. BST are are used to seraching an element efficiently.\n",
    "2. A modified version of a tree called Tries is used in modern routers to store routing information.\n",
    "3. Most popular databases use B-Trees and T-Trees, which are variants of the tree structure we learned above to store their data."
   ]
  },
  {
   "attachments": {},
   "cell_type": "markdown",
   "metadata": {},
   "source": [
    "#### Why Tree Data Structure?\n",
    "Other data structures such as arrays, linked list, stack, and queue are linear data structures that store data sequentially. In order to perform any operation in a linear data structure, the time complexity increases with the increase in the data size. But, it is not acceptable in today's computational world.\n",
    "\n",
    "Different tree data structures allow quicker and easier access to the data as it is a non-linear data structure."
   ]
  },
  {
   "attachments": {},
   "cell_type": "markdown",
   "metadata": {},
   "source": [
    "#### 1. Binary Tree:"
   ]
  },
  {
   "cell_type": "code",
   "execution_count": null,
   "metadata": {},
   "outputs": [],
   "source": []
  },
  {
   "attachments": {},
   "cell_type": "markdown",
   "metadata": {},
   "source": [
    "#### 2. Binary Search Tree"
   ]
  },
  {
   "attachments": {},
   "cell_type": "markdown",
   "metadata": {},
   "source": [
    "#### 3. AVL tree:"
   ]
  },
  {
   "attachments": {},
   "cell_type": "markdown",
   "metadata": {},
   "source": [
    "#### 4."
   ]
  }
 ],
 "metadata": {
  "language_info": {
   "name": "python"
  },
  "orig_nbformat": 4
 },
 "nbformat": 4,
 "nbformat_minor": 2
}
