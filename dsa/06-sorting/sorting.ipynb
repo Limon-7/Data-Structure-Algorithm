{
 "cells": [
  {
   "attachments": {},
   "cell_type": "markdown",
   "metadata": {},
   "source": [
    "## Sorting DataStructure\n",
    "\n",
    "| Algorithms  | Big-O Time   | Big-O Space |\n",
    "|:-----------|:------------:|:-------------:\n",
    "| InsertionSort(stable)| $O(N^{2})$|O(1)        |\n",
    "| SelectionSort(unstable)| $O(N^{2})$ |O(1)  |\n",
    "| MergeSort(stable)|  $O(NlogN)$ |O(N)\n",
    "| QuickSort(unstable)| $O(NlogN)$ | $O(logN)$\n",
    "| BucketSort(unstable)| O(n) |O(N+K)\n",
    "| BubbleSort(stable)| O(n) | O(1)|"
   ]
  },
  {
   "attachments": {},
   "cell_type": "markdown",
   "metadata": {},
   "source": []
  }
 ],
 "metadata": {
  "language_info": {
   "name": "python"
  },
  "orig_nbformat": 4
 },
 "nbformat": 4,
 "nbformat_minor": 2
}
