{
 "cells": [
  {
   "attachments": {},
   "cell_type": "markdown",
   "metadata": {},
   "source": [
    "## Sorting DataStructure\n",
    "\n",
    "| Algorithms  | Big-O Time   | Big-O Space |\n",
    "|:-----------|:------------:|:-------------:\n",
    "| InsertionSort(stable)| $O(N^{2})$|O(1)        |\n",
    "| SelectionSort(unstable)| $O(N^{2})$ |O(1)  |\n",
    "| MergeSort(stable)|  $O(NlogN)$ |O(N)\n",
    "| QuickSort(unstable)| $O(NlogN)$ | $O(logN)$\n",
    "| BucketSort(unstable)| O(n) |O(N+K)\n",
    "| BubbleSort(stable)| O(n) | O(1)|"
   ]
  },
  {
   "attachments": {},
   "cell_type": "markdown",
   "metadata": {},
   "source": []
  },
  {
   "cell_type": "markdown",
   "metadata": {},
   "source": [
    "### BucketSort\n",
    "Bucket sort, or bin sort, is a sorting algorithm that works by distributing the elements of an array into a number of buckets.\n",
    "`Input is uniformly distributed over a range typically in a samller range.`<br>\n",
    "`arr=[2,3,1,0,2,0,1,3] and range=4`"
   ]
  },
  {
   "cell_type": "code",
   "execution_count": null,
   "metadata": {},
   "outputs": [],
   "source": []
  }
 ],
 "metadata": {
  "kernelspec": {
   "display_name": "Python 3",
   "language": "python",
   "name": "python3"
  },
  "language_info": {
   "codemirror_mode": {
    "name": "ipython",
    "version": 3
   },
   "file_extension": ".py",
   "mimetype": "text/x-python",
   "name": "python",
   "nbconvert_exporter": "python",
   "pygments_lexer": "ipython3",
   "version": "3.11.3"
  },
  "orig_nbformat": 4
 },
 "nbformat": 4,
 "nbformat_minor": 2
}
