{
 "cells": [
  {
   "attachments": {},
   "cell_type": "markdown",
   "metadata": {},
   "source": [
    "## [Graph:](https://www.hackerearth.com/practice/algorithms/graphs/graph-representation/practice-problems/)\n",
    "Graphs are mathematical structures that represent pairwise relationships between objects. A graph is a flow structure that represents the relationship between various objects. A graph data structure is a collection of nodes that have data and are connected to other nodes.\n",
    "\n",
    "***types of graphs are:***<br>\n",
    "1. ***Directed Graph (Digraph):*** A directed graph is a graph in which all the edges are uni-directional i.e. the edges point in a single direction.\n",
    "\n",
    "2. ***Undirected Graph:***  An undirected graph is a graph in which all the edges are bi-directional i.e. the edges do not point in any specific direction. Undirected graphs are used to represent symmetric relationships.\n",
    "\n",
    "3. ***Weighted Graph:*** In a weighted graph, each edge is assigned a weight or cost or `default value = 1`.\n",
    "\n",
    "4. ***Cyclic Graph:*** A graph is cyclic if the graph comprises a path that starts from a vertex and ends at the same vertex.\n",
    "\n",
    "5. ***ACyclic Graph:*** An acyclic graph is a graph that has no cycle. A tree is an acyclic graph and has N - 1 edges where N is the number of vertices.\n",
    "\n",
    "***Terminology:***<br>\n",
    "1. ***Vertex (Node):*** An individual element in the graph.\n",
    "2. ***Edge:*** A connection between two vertices, representing the relationship between them.\n",
    "3. ***Degree of a vertex:*** The number of edges incident to a vertex (in-degree and outdegree for directed graphs and total degree for undirected graphs($d=2*no \\; of\\; edges$)).\n",
    "4. ***Path:*** A sequence of vertices where each adjacent pair is connected by an edge.\n",
    "5. ***Cycle:*** A path that starts and ends at the same vertex, forming a loop.\n",
    "6. ***Connected Graph:*** A graph in which there is a path between any two vertices.\n",
    "7. ***Disconnected Graph:*** A graph with at least two vertices where there is no path between some pairs of vertices.\n",
    "8. ***Subgraph:*** A graph formed by a subset of the vertices and edges of the original graph.\n",
    "\n",
    "***Repreesntation:***<br>\n",
    "1. ***Adjacency Matrix:*** A 2D array where the entry (i, j) represents whether there is an edge between vertex i and vertex j. For weighted graphs, the entries can store the edge weights.\n",
    "\n",
    "2. ***Adjacency List:***  A collection of lists (or arrays) where each list represents the neighbors of a vertex. For weighted graphs, the lists can store the neighboring vertices along with their edge weights.\n",
    "\n",
    "***Graph Traversal:***\n",
    "1. ***BFS:*** BFS is a traversing algorithm where you should start traversing from a selected node (source or starting node) and traverse the graph layerwise thus exploring the neighbour nodes (nodes which are directly connected to source node).\n",
    "2. ***DFS:*** The DFS algorithm is a recursive algorithm that uses the idea of backtracking. It involves exhaustive searches of all the nodes by going ahead, if possible, else by backtracking.\n",
    "\n",
    "Application:\n",
    "1.  ***Minimum Spanning Tree:*** Minimum spanning tree is the spanning tree where the cost is minimum among all the spanning trees. Minimum spanning tree has direct application in the design of networks. It is used in algorithms approximating the travelling salesman problem, multi-terminal minimum cut problem and minimum-cost weighted perfect matching and ***Cluster Analysis, Handwriting recognition, Image segmentation***.\n",
    "    1. Kruskal’s Algorithm\n",
    "    2. Prim’s Algorithm\n",
    "2. ***shortest path problem:*** The shortest path problem is about finding a path between vertices in a graph such that the total sum of the edges weights is minimum. ***This problem could be solved easily using (BFS) if all edge weights were 1.***\n",
    "    1. Bellman Ford's Algorithm\n",
    "    2. Dijkstra's Algorithm\n",
    "    3. Floyd-Warshall Algorithm.\n",
    "\n",
    "\n",
    "***Algorithm:***\n",
    "1. Flood-fill Algorithm\n",
    "2. Articulation Points and Bridges."
   ]
  },
  {
   "attachments": {},
   "cell_type": "markdown",
   "metadata": {},
   "source": []
  }
 ],
 "metadata": {
  "language_info": {
   "name": "python"
  },
  "orig_nbformat": 4
 },
 "nbformat": 4,
 "nbformat_minor": 2
}
