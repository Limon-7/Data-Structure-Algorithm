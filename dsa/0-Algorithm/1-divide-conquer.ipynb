{
 "cells": [
  {
   "attachments": {},
   "cell_type": "markdown",
   "metadata": {},
   "source": [
    "## Divide and Conqure\n",
    "A divide and conquer algorithm is a strategy of solving a large problem by\n",
    "\n",
    "- breaking the problem into smaller sub-problems\n",
    "- solving the sub-problems, and\n",
    "- combining them to get the desired output.\n",
    "\n",
    "***Note:*** To use the divide and conquer algorithm, recursion is used.\n",
    "\n",
    "Application:\n",
    "1. Binary Search\n",
    "2. Merge Sort\n",
    "3. Quick Sort\n",
    "4. Strassen's Matrix multiplication\n",
    "5. Karatsuba Algorithm"
   ]
  },
  {
   "cell_type": "code",
   "execution_count": 1,
   "metadata": {
    "vscode": {
     "languageId": "cpp"
    }
   },
   "outputs": [],
   "source": [
    "#include<iostream>\n",
    "using namespace std;"
   ]
  },
  {
   "cell_type": "code",
   "execution_count": 4,
   "metadata": {
    "vscode": {
     "languageId": "cpp"
    }
   },
   "outputs": [],
   "source": [
    "void init(){\n",
    "    int n, value;\n",
    "    int i = 0;\n",
    "    cin >> n;\n",
    "    while(i<n){\n",
    "        cin >> value;\n",
    "        ++i;\n",
    "    }\n",
    "    cout<<\"complete IO operations\"<<endl;\n",
    "}\n",
    "void init();"
   ]
  },
  {
   "cell_type": "code",
   "execution_count": 5,
   "metadata": {
    "vscode": {
     "languageId": "cpp"
    }
   },
   "outputs": [
    {
     "data": {
      "text/plain": [
       "@0x7f61180e0c80"
      ]
     },
     "execution_count": 5,
     "metadata": {},
     "output_type": "execute_result"
    }
   ],
   "source": [
    "int a;\n",
    "cin>>a"
   ]
  },
  {
   "cell_type": "code",
   "execution_count": null,
   "metadata": {
    "vscode": {
     "languageId": "cpp"
    }
   },
   "outputs": [],
   "source": []
  }
 ],
 "metadata": {
  "kernelspec": {
   "display_name": "C++17",
   "language": "C++17",
   "name": "xcpp17"
  },
  "language_info": {
   "codemirror_mode": "text/x-c++src",
   "file_extension": ".cpp",
   "mimetype": "text/x-c++src",
   "name": "c++",
   "version": "17"
  },
  "orig_nbformat": 4
 },
 "nbformat": 4,
 "nbformat_minor": 2
}
