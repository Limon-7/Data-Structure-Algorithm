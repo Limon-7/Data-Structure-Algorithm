{
 "cells": [
  {
   "attachments": {},
   "cell_type": "markdown",
   "metadata": {},
   "source": [
    "### Recursion:\n",
    "Recursion refers to a programming concept where a function calls itself during its execution.\n",
    "\n",
    "Recursive ALgorithm:\n",
    "1. Base case(when the function will terminate).\n",
    "2. work toward base.\n",
    "3. Recursive call.\n",
    "\n",
    "Application:\n",
    "1. Tree and Graph Traversal\n",
    "2. Sorting algorithm\n",
    "3. Divide and conquer\n",
    "4. Back tracking algorithm\n",
    "5. Memoization\n",
    "\n",
    "***Call Stack:*** Recursive functions use something called “the call stack.” When a program calls a function, that function goes on top of the call stack.\n",
    "\n",
    "***stack overflow/ stck space:*** The stack overflow error happens when the program exceeds the call stack space in memory, this is mostly caused by a recursive code. This call stack is located in the virtual memory.\n",
    "\n",
    "***recursive tree:***: A recursive tree is basically a representative form of recursion which depicts how functions are called and returned as a series of events happening consecutively.\n",
    "\n",
    "***Virtual memory:***\n",
    "\n",
    "1. text: the text also known as code, is the section of memory which contains executable instructions of a program.\n",
    "2. data: segment that contains global, static and environment variables, etc.\n",
    "3. heap: the heap stores dynamic data, complex objects and most of your data needed by the program. This is allocated via system call, and is where the memory fragmentation, leaking occurs and where the Garbage Collector takes place.\n",
    "4. stack: also known as call stack keeps track of the execution of the program. With a very limited size, it stores local variables and local functions. The call stack uses the stack data structure with the LIFO principle (last-in first-out).\n"
   ]
  },
  {
   "attachments": {},
   "cell_type": "markdown",
   "metadata": {},
   "source": [
    "#### Example of some common recurion:"
   ]
  },
  {
   "cell_type": "code",
   "execution_count": 4,
   "metadata": {},
   "outputs": [
    {
     "name": "stdout",
     "output_type": "stream",
     "text": [
      "1 2 3 4 5 "
     ]
    }
   ],
   "source": [
    "## Print numbers from 1 to N without the help of loops.\n",
    "def func(n):\n",
    "    if n==0:\n",
    "        return\n",
    "    func(n-1)\n",
    "    print(n, end=\" \") # backtracking\n",
    "func(5)"
   ]
  },
  {
   "attachments": {},
   "cell_type": "markdown",
   "metadata": {},
   "source": [
    "### how this work:\n",
    "|n|stack|n==0|pop|`print(n, end=\" \")`|\n",
    "---:|---:|---:| ---:|---:|\n",
    "0|func(0)|false|pop|\n",
    "1|func(1)|true|pop| 1\n",
    "2|func(2)|true|pop| 2\n",
    "3|func(3)|true|pop| 3\n",
    "4|func(4)|true|pop|4\n",
    "5|func(5)|true|pop|5"
   ]
  },
  {
   "cell_type": "code",
   "execution_count": 5,
   "metadata": {},
   "outputs": [
    {
     "name": "stdout",
     "output_type": "stream",
     "text": [
      "10.0\n"
     ]
    }
   ],
   "source": [
    "def count_substrings(s):\n",
    "    count = 0\n",
    "    n = len(s)\n",
    "\n",
    "    for i in range(n):\n",
    "        if s[i] == '1':\n",
    "            count += 1\n",
    "            # j = i + 1\n",
    "            # while j < n and s[j] == '1':\n",
    "            #     count += 1\n",
    "            #     j += 1\n",
    "\n",
    "    return count*(count+1)/2\n",
    "print(count_substrings(\"1111\"))"
   ]
  },
  {
   "cell_type": "code",
   "execution_count": 3,
   "metadata": {},
   "outputs": [
    {
     "data": {
      "text/plain": [
       "[0, 0, 0, 0, 0, 0, 0, 0, 0, 0]"
      ]
     },
     "execution_count": 3,
     "metadata": {},
     "output_type": "execute_result"
    }
   ],
   "source": [
    "arr = [12, 11, 13, 5, 6, 7]\n",
    "n = len(arr)\n",
    "l =[0]*10\n",
    "l"
   ]
  },
  {
   "attachments": {},
   "cell_type": "markdown",
   "metadata": {},
   "source": [
    "## Divide and conquer:\n"
   ]
  },
  {
   "attachments": {},
   "cell_type": "markdown",
   "metadata": {},
   "source": [
    "N=7,\n",
    "arr[ ]={3,2,8,5,1,4,23}\n",
    "stack 5 // \n",
    "```\n",
    "    void merge(vector<int> &arr, 0, 0, 1)\n",
    "    {\n",
    "        vector<int> temp;\n",
    "        int left = low;\n",
    "        int right = mid + 1;\n",
    "\n",
    "        while (left <= mid && right <= high)\n",
    "        {\n",
    "            if (arr[left] <= arr[right])\n",
    "            {\n",
    "                temp.push_back(arr[left]);\n",
    "                left++;\n",
    "            }\n",
    "            else\n",
    "            {\n",
    "                temp.push_back(arr[right]);\n",
    "                right++;\n",
    "            }\n",
    "        }\n",
    "\n",
    "        while (left <= mid)\n",
    "        {\n",
    "            temp.push_back(arr[left]);\n",
    "            left++;\n",
    "        }\n",
    "        while (right <= high)\n",
    "        {\n",
    "            temp.push_back(arr[right]);\n",
    "            right++;\n",
    "        }\n",
    "        for (int i = low; i <= high; i++)\n",
    "        {\n",
    "            arr[i] = temp[i - low];\n",
    "        }\n",
    "    }\n",
    "```\n",
    "stack 4 //complete\n",
    "```\n",
    "    void divide(vector<int> &arr, 1, 1)\n",
    "    {\n",
    "        if (1 >= 1)\n",
    "            return; // back to ->2\n",
    "        mid = 1/2=0;\n",
    "        divide(arr, 0, 0);      // left half\n",
    "        ->divide(arr, 0 + 1, 1); // call another method\n",
    "\n",
    "        merge(arr, low, mid, high);\n",
    "    }\n",
    "```\n",
    "\n",
    "stack 3// complete back to  2\n",
    "```\n",
    "void divide(vector<int> &arr, 0, 0)\n",
    "{\n",
    "    if (0 >= 1)\n",
    "        return;\n",
    "    mid = 1/2=0;\n",
    "    divide(arr, 0, 0);      // left half\n",
    "    divide(arr, mid + 1, high); // right half\n",
    "\n",
    "    merge(arr, low, mid, high);\n",
    "}\n",
    "```\n",
    "\n",
    "stack 2\n",
    "```\n",
    "    void divide(vector<int> &arr, 0, 1)\n",
    "    {\n",
    "        if (0 >= 1)\n",
    "            return;\n",
    "        mid = 1/2=0;\n",
    "        divide(arr, 0, 0);      // left half\n",
    "        ->divide(arr, 0 + 1, 1); // call stack 4\n",
    "\n",
    "        -> merge(arr, 0, 0, 1);\n",
    "    }\n",
    "```\n",
    "\n",
    "stack from main\n",
    "```\n",
    "    void divide(vector<int> &arr, 0, 2)\n",
    "    {\n",
    "        if (0 >= 2)\n",
    "            return;\n",
    "        mid = 1;\n",
    "        divide(arr, 0, 1);      // left half\n",
    "        ->divide(arr, 1 + 1, 2); // right half call divide again \n",
    "\n",
    "        -> merge(arr, 0, 1, 2);\n",
    "    }\n",
    "```\n",
    "\n",
    "stack 6. complete\n",
    "```\n",
    "    void divide(vector<int> &arr, 2, 2)\n",
    "    {\n",
    "        if (0 >= 2)\n",
    "            return;\n",
    "        mid = 1;\n",
    "        divide(arr, 0, 1);      // left half\n",
    "        ->divide(arr, 1 + 1, 2); // right half call divide again\n",
    "\n",
    "        merge(arr, low, mid, high);\n",
    "    }\n",
    "```\n",
    "stack 7 // \n",
    "```\n",
    "    void merge(vector<int> &arr, 0, 1, 2)\n",
    "    {\n",
    "        vector<int> temp;\n",
    "        int left = 0;\n",
    "        int right = 1 + 1;\n",
    "\n",
    "        while (left <= mid && right <= high)\n",
    "        {\n",
    "            if (arr[left] <= arr[right])\n",
    "            {\n",
    "                temp.push_back(arr[left]);\n",
    "                left++;\n",
    "            }\n",
    "            else\n",
    "            {\n",
    "                temp.push_back(arr[right]);\n",
    "                right++;\n",
    "            }\n",
    "        }\n",
    "\n",
    "        while (left <= mid)\n",
    "        {\n",
    "            temp.push_back(arr[left]);\n",
    "            left++;\n",
    "        }\n",
    "        while (right <= high)\n",
    "        {\n",
    "            temp.push_back(arr[right]);\n",
    "            right++;\n",
    "        }\n",
    "        for (int i = low; i <= high; i++)\n",
    "        {\n",
    "            arr[i] = temp[i - low];\n",
    "        }\n",
    "    }\n",
    "```"
   ]
  },
  {
   "attachments": {},
   "cell_type": "markdown",
   "metadata": {},
   "source": []
  },
  {
   "attachments": {},
   "cell_type": "markdown",
   "metadata": {},
   "source": []
  },
  {
   "attachments": {},
   "cell_type": "markdown",
   "metadata": {},
   "source": []
  }
 ],
 "metadata": {
  "kernelspec": {
   "display_name": "Python 3",
   "language": "python",
   "name": "python3"
  },
  "language_info": {
   "codemirror_mode": {
    "name": "ipython",
    "version": 3
   },
   "file_extension": ".py",
   "mimetype": "text/x-python",
   "name": "python",
   "nbconvert_exporter": "python",
   "pygments_lexer": "ipython3",
   "version": "3.11.3"
  },
  "orig_nbformat": 4
 },
 "nbformat": 4,
 "nbformat_minor": 2
}
