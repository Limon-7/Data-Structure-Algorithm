{
 "cells": [
  {
   "attachments": {},
   "cell_type": "markdown",
   "metadata": {},
   "source": [
    "### Stack:\n",
    "A stack is a linear data structure that follows the principle of Last In First Out (LIFO). This means the last element inserted inside the stack is removed first.\n",
    "\n",
    "Basic Operation:\n",
    "1. Push: Add an element to the top of a stack\n",
    "    ```\n",
    "    begin\n",
    "        if stack is full\n",
    "            return\n",
    "        endif\n",
    "        else  \n",
    "            increment top\n",
    "            stack[top] assign value\n",
    "        end else\n",
    "    end procedure\n",
    "    ```\n",
    "2. Pop: Remove an element from the top of a stack\n",
    "    ```\n",
    "    begin\n",
    "        if stack is empty\n",
    "            return\n",
    "        endif\n",
    "        else\n",
    "            store value of stack[top]\n",
    "            decrement top\n",
    "            return value\n",
    "        end else\n",
    "    end procedure\n",
    "    ```\n",
    "3. IsEmpty: Check if the stack is empty\n",
    "    ```\n",
    "    begin\n",
    "        if top < 1\n",
    "            return true\n",
    "        else\n",
    "            return false\n",
    "    end procedure\n",
    "    ```\n",
    "4. IsFull: Check if the stack is full\n",
    "5. Peek: Get the value of the top element without removing it\n",
    "\n",
    "Algorithm:\n",
    "1. initialize TOP=-1\n",
    "2. push: increment TOP=TOP+1 and push the element in the TOPth position\n",
    "3. pop: decremnt TOP=TOP-1\n",
    "\n",
    "Usages:\n",
    "1. To reverse a word \n",
    "2. In compilers\n",
    "3. In Browser"
   ]
  },
  {
   "cell_type": "code",
   "execution_count": 1,
   "metadata": {},
   "outputs": [
    {
     "name": "stdout",
     "output_type": "stream",
     "text": [
      "limon\n"
     ]
    }
   ],
   "source": [
    "class Stack:\n",
    "    def __init__(self) -> None:\n",
    "        pass\n",
    "\n",
    "\n",
    "s= Stack()\n",
    "s.name=\"limon\"\n",
    "print(s.name)"
   ]
  },
  {
   "cell_type": "code",
   "execution_count": null,
   "metadata": {},
   "outputs": [],
   "source": []
  },
  {
   "attachments": {},
   "cell_type": "markdown",
   "metadata": {},
   "source": []
  }
 ],
 "metadata": {
  "kernelspec": {
   "display_name": "Python 3",
   "language": "python",
   "name": "python3"
  },
  "language_info": {
   "codemirror_mode": {
    "name": "ipython",
    "version": 3
   },
   "file_extension": ".py",
   "mimetype": "text/x-python",
   "name": "python",
   "nbconvert_exporter": "python",
   "pygments_lexer": "ipython3",
   "version": "3.9.6"
  },
  "orig_nbformat": 4
 },
 "nbformat": 4,
 "nbformat_minor": 2
}
